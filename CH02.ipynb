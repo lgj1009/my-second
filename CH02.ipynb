{
 "cells": [
  {
   "cell_type": "markdown",
   "metadata": {},
   "source": [
    "###### CHAPTER 02"
   ]
  },
  {
   "cell_type": "markdown",
   "metadata": {},
   "source": [
    "## 파일 및 폴더 자동화"
   ]
  },
  {
   "cell_type": "markdown",
   "metadata": {},
   "source": [
    "---\n",
    "###### 학습 문제제시"
   ]
  },
  {
   "cell_type": "markdown",
   "metadata": {},
   "source": [
    "### 파일 및 폴더 자동 분류하기"
   ]
  },
  {
   "cell_type": "markdown",
   "metadata": {},
   "source": [
    "- 파이썬을 활용하여 정리되지 않은 파일과 폴더를 자동으로 분류하여 주는 코드를 작성하여 봅시다.\n",
    "- `./src` 폴더 바로 아래에 있는 파일을 아래 조건에 따라서 분류하시기 바랍니다."
   ]
  },
  {
   "cell_type": "markdown",
   "metadata": {},
   "source": [
    "- 조건\n",
    "\n",
    "    - `보고서`란 단어가 포함된 파일은 확장자가 무엇이든 `./Reports` 폴더로 이동되어야 합니다.\n",
    "    - `회의록`이란 단어가 포함된 파일은 확장자가 무엇이든 `./Meetings` 폴더로 이동되어야 합니다.\n",
    "    - `발표자료`란 단어가 포함된 파일은 확장자가 무엇이든 `./Presentations` 폴더로 이동되어야 합니다."
   ]
  },
  {
   "cell_type": "markdown",
   "metadata": {},
   "source": [
    "- 필요한 사항\n",
    "\n",
    "    - 이동시킬 파일의 위치와 이동될 파일의 위치를 표현하는 방법을 알아야 합니다.\n",
    "    - 특정 폴더(`./src`)의 모든 파일을 조회하는 방법을 알아야 합니다.\n",
    "    - `Reports`, `Meetings`, `Presentations`폴더를 만드는 방법을 알아야 합니다.\n",
    "    - 이동시킬 파일에 특정 단어가 포함되어 있는지 여부를 알아야 합니다.\n",
    "    - 파일을 이동시키는 기능을 알아야 합니다."
   ]
  },
  {
   "cell_type": "markdown",
   "metadata": {},
   "source": [
    "---\n",
    "###### 개념설명"
   ]
  },
  {
   "cell_type": "markdown",
   "metadata": {},
   "source": [
    "### 경로에 대한 설명"
   ]
  },
  {
   "cell_type": "markdown",
   "metadata": {},
   "source": [
    "- 위 문제에서 제시한 폴더를 표현하는 방법에 대해서 학습합니다.\n",
    "- 경로를 통하여 파일이나 폴더를 선택하거나, 파일 및 폴더의 위치를 상대경로로 나타내는 방법에 대해서 학습합니다."
   ]
  },
  {
   "cell_type": "markdown",
   "metadata": {},
   "source": [
    "### 경로(Path)\n",
    "\n",
    "- 경로는 파일 시스템에 대하여 해당 파일 및 디렉토리의 고유한 위치를 의미합니다.\n",
    "\n",
    "- 이러한 경로는 특정 위치에 대한 상대적인 경로(상대경로)와 최상위 위치에 대한 절대적인 경로로 구분됩니다(절대경로).\n",
    "\n",
    "- 상대경로는 현재 작업 디렉토리를 기준으로 표현되며, 절대경로는 최상위 디렉토리를 기준으로 표현됩니다."
   ]
  },
  {
   "cell_type": "markdown",
   "metadata": {},
   "source": [
    "### 절대경로와 상대경로\n",
    "\n",
    "- 절대경로는 최상위 디렉토리로부터 경유한 모든 경로를 기입하는 방식을 의미합니다.\n",
    "- 흔히 보는 C:\\Users\\username\\Desktop\\filename.txt와 같은 형태가 절대경로입니다.\n",
    "- 상대경로는 현재 작업 디렉토리를 기준으로 경유한 경로를 기입하는 방식을 의미합니다.\n",
    "- 흔히 보는 .\\filename.txt와 같은 형태가 상대경로입니다.\n",
    "\n",
    "- 상대경로에서 ./는 현재 작업 디렉토리를 의미합니다.\n",
    "- 상대경로에서 ../는 현재 작업 디렉토리의 상위 디렉토리를 의미합니다.\n",
    "- 상대경로에서 ../../는 현재 작업 디렉토리의 상위 디렉토리의 상위 디렉토리를 의미합니다.\n",
    "- 절대경로의 경우, 아래의 사유들로 사용하기 불편한 상황이 있음\n",
    "    - 타인에게 배포를 하는 상황 : username이 달라서 오류발생함\n",
    "    - Windows이외의 운영체제(Linux, Unix등)를 사용할 경우 : 최상위 주소가 C:\\가 아니기 때문에 오류발생함"
   ]
  },
  {
   "cell_type": "markdown",
   "metadata": {},
   "source": [
    "---\n",
    "###### 읽어보기"
   ]
  },
  {
   "cell_type": "markdown",
   "metadata": {},
   "source": [
    "### 경로의 표기\n",
    "\n",
    "- 윈도우 운영체제에서는 백슬래시(\\\\)를 사용하여 경로를 표기합니다. \\ \\ \\ \\ \\\n",
    "\n",
    "- 반면, 리눅스 운영체제에서는 슬래시(/)를 사용하여 경로를 표기합니다. 백슬래시\\ 안쓴다! / / / / /\n",
    "\n",
    "- 다만 백슬래시의 경우, 파이썬에서는 이스케이프 문자로 인식되기 때문에 백슬래시를 두 번 사용해야 합니다. \\\\ \\\\ \\\\ \\\\ \\\\\n",
    "\n",
    "- 또한 raw string을 사용하여 백슬래시가 포함된 경로를 사용할 수 있습니다."
   ]
  },
  {
   "cell_type": "markdown",
   "metadata": {},
   "source": [
    "---\n",
    "###### 개념설명\n",
    "\n",
    "#### 경로에 대해 os.path 라이브러리 사용하기"
   ]
  },
  {
   "cell_type": "markdown",
   "metadata": {},
   "source": [
    "- os.path 계열의 함수를 이용하여 운영체제에 상관없이 자동적으로 경로를 다룰 수 있습니다.\n",
    "- os.path는 os 라이브러리에 포함되어 있습니다.\n",
    "- os 라이브러리는 표준 라이브러리이므로 별도의 설치가 필요없이 바로 불러오기만 하면 됩니다."
   ]
  },
  {
   "cell_type": "code",
   "execution_count": 2,
   "metadata": {},
   "outputs": [],
   "source": [
    "# 라이브러리를 불러옵니다.\n",
    "# %pip install os로 설치할 필요가 없슴다!  \n",
    "\n",
    "import os"
   ]
  },
  {
   "cell_type": "code",
   "execution_count": 3,
   "metadata": {},
   "outputs": [
    {
     "name": "stdout",
     "output_type": "stream",
     "text": [
      "abc\\src\\filename.txt\n"
     ]
    }
   ],
   "source": [
    "# 아래와 같이 os.path.join() 함수를 통하여 경로를 합칠 수 있습니다.\n",
    "\n",
    "folder = \"abc\"\n",
    "path = \"src\"\n",
    "filename = \"filename.txt\"\n",
    "\n",
    "result = os.path.join(folder, path, filename)\n",
    "print(result)"
   ]
  },
  {
   "cell_type": "markdown",
   "metadata": {},
   "source": [
    "###### 개념설명\n",
    "\n",
    "#### 문자열 포매팅 (★중요)\n",
    "- f-string을 이용하여 문자열과 변수의 값을 함께 나타낼 수 있습니다."
   ]
  },
  {
   "cell_type": "code",
   "execution_count": 4,
   "metadata": {},
   "outputs": [
    {
     "name": "stdout",
     "output_type": "stream",
     "text": [
      "이렇게 변수와 일반 문자열을 함께 작성할 수 있습니다.\n",
      "이렇게 1100.0처럼 계산식 혹은 파이썬 코드를 함께 작성할 수도 있습니다.\n"
     ]
    }
   ],
   "source": [
    "# f-string을 이용하여 문자열과 변수의 값을 함께 나타낼 수 있습니다.\n",
    "# 따옴표로 감싼 문자열 바깥 부분에 f를 작성하여 나타냅니다.\n",
    "# 중괄호 안에 변수의 이름을 작성합니다.\n",
    "\n",
    "var = \"변수\"\n",
    "print(f\"이렇게 {var}와 일반 문자열을 함께 작성할 수 있습니다.\")\n",
    "\n",
    "price = 1000\n",
    "print(f\"이렇게 {price * 1.1}처럼 계산식 혹은 파이썬 코드를 함께 작성할 수도 있습니다.\")"
   ]
  },
  {
   "cell_type": "markdown",
   "metadata": {},
   "source": [
    "###### 연습문제\n",
    "\n",
    "- `os.path.join의 결과물`을 `f-string`을 사용하여 동일하게 만들어내시기 바랍니다."
   ]
  },
  {
   "cell_type": "code",
   "execution_count": 5,
   "metadata": {},
   "outputs": [
    {
     "name": "stdout",
     "output_type": "stream",
     "text": [
      "abc/src/filename.txt\n"
     ]
    }
   ],
   "source": [
    "path = \"src\"\n",
    "filename = \"filename.txt\"\n",
    "\n",
    "# 아래에 코드를 작성하세요\n",
    "print(f\"{folder}/{path}/{filename}\")"
   ]
  },
  {
   "cell_type": "markdown",
   "metadata": {},
   "source": [
    "---"
   ]
  },
  {
   "cell_type": "markdown",
   "metadata": {},
   "source": [
    "###### 개념설명\n",
    "\n",
    "#### 경로를 분리하기\n",
    "- `os.path.join`과 `os.path.splitext`를 이용하여 경로를 분리할 수도 있습니다."
   ]
  },
  {
   "cell_type": "code",
   "execution_count": 6,
   "metadata": {},
   "outputs": [],
   "source": [
    "# (주의) macOS 또는 linux 배포판은 아래의 file_path로 교체하여 사용하시기 바랍니다.\n",
    "\n",
    "file_path = r\"/Users/user/Desktop/file.txt\""
   ]
  },
  {
   "cell_type": "code",
   "execution_count": 7,
   "metadata": {},
   "outputs": [
    {
     "name": "stdout",
     "output_type": "stream",
     "text": [
      "('C:/Users/user/Desktop', 'file.png')\n",
      "<class 'tuple'>\n",
      "('C:/Users/user/Desktop/file', '.png')\n",
      "<class 'tuple'>\n"
     ]
    }
   ],
   "source": [
    "# os.path.split()과 os.path.splitext()를 통하여 파일 경로와 이름, 이름과 확장자를 분리할 수 있습니다\n",
    "# ext는 extension의 줄임말 : 확장자!!\n",
    "# 그냥 분리하는 결과에 따라 차이만 있는 거군.\n",
    "\n",
    "file_path = r\"C:/Users/user/Desktop/file.png\" \n",
    "# r을 빼면, 백슬래시 쓰면 에러띰!! \n",
    "# \\n : 줄바꾸라는 뜻     \n",
    "# \\u : 유니코드로 바꾸라는 뜻\n",
    "# r은 rawstring이라는 뜻이고, 특수기능 (\\n이나 \\u)로 해석하지 말고, 문자 그대로 받아들이라는 명령 \n",
    "\n",
    "# 아래 코드를 실행하세요\n",
    "\n",
    "print(os.path.split(file_path))\n",
    "print(type(os.path.split(file_path)))\n",
    "\n",
    "print(os.path.splitext(file_path))\n",
    "print(type(os.path.splitext(file_path)))"
   ]
  },
  {
   "cell_type": "markdown",
   "metadata": {},
   "source": [
    "---\n",
    "\n",
    "###### 파이썬 기초 개념"
   ]
  },
  {
   "cell_type": "markdown",
   "metadata": {},
   "source": [
    "### 파이썬에서의 인덱싱"
   ]
  },
  {
   "cell_type": "markdown",
   "metadata": {},
   "source": [
    "- 인덱싱이란 `list`, `tuple`, `str` 등의 시퀀스(sequence) 요소에 대해서 특정 요소에 접근하는 방법을 의미합니다.\n",
    "- 인덱스는 이러한 인덱싱에서 사용되는 시퀀스 요소 내에서의 위치를 의미합니다.\n",
    "- 인덱스는 `0`부터 시작하며, 뒤에서부터 `-1`로도 사용할 수 있습니다."
   ]
  },
  {
   "cell_type": "code",
   "execution_count": 8,
   "metadata": {},
   "outputs": [
    {
     "name": "stdout",
     "output_type": "stream",
     "text": [
      "1\n"
     ]
    }
   ],
   "source": [
    "#      [0, 1, 2, 3, 4]\n",
    "nums = [1, 2, 3, 4, 5]\n",
    "\n",
    "# 인덱스 0인 정수 1에 접근하여 출력\n",
    "print(nums[0])"
   ]
  },
  {
   "cell_type": "markdown",
   "metadata": {},
   "source": [
    "---"
   ]
  },
  {
   "cell_type": "markdown",
   "metadata": {},
   "source": [
    "###### 연습문제\n",
    "\n",
    "- 위 os 함수들을 이용하여, 아래 file_path의 파일 이름과 확장자를 각각 변수 `filename과` `extension에` 분리하여 저장하고, 출력해보세요. \n",
    "- `filename` 변수에는 `file` 이라는 값이, `extension` 변수에는 `.txt`가 저장되어야 합니다.\n",
    "- 입력할 수 있는 인자값과 반환값의 자료형에 주의하시기 바랍니다."
   ]
  },
  {
   "cell_type": "code",
   "execution_count": 9,
   "metadata": {},
   "outputs": [
    {
     "name": "stdout",
     "output_type": "stream",
     "text": [
      "('C:\\\\Users\\\\user\\\\Desktop', 'file.txt')\n",
      "('C:\\\\Users\\\\user\\\\Desktop\\\\file', '.txt')\n",
      "\n",
      "filename = C:\\Users\\user\\Desktop\n",
      "<class 'str'>\n",
      "\n",
      "extension = .txt\n",
      "<class 'str'>\n"
     ]
    }
   ],
   "source": [
    "file_path = r\"C:\\Users\\user\\Desktop\\file.txt\"\n",
    "\n",
    "# 아래에 코드를 작성하세요\n",
    "filename = os.path.split(file_path)[0]\n",
    "extension = os.path.splitext(file_path)[1]\n",
    "\n",
    "print(os.path.split(file_path))\n",
    "print(os.path.splitext(file_path))\n",
    "\n",
    "print(\"\")\n",
    "print(\"filename =\",filename)\n",
    "print(type(filename))\n",
    "print(\"\")\n",
    "print(\"extension =\", extension)\n",
    "print(type(extension))"
   ]
  },
  {
   "cell_type": "code",
   "execution_count": 10,
   "metadata": {},
   "outputs": [
    {
     "name": "stdout",
     "output_type": "stream",
     "text": [
      "file .txt\n",
      "file .txt\n"
     ]
    }
   ],
   "source": [
    "# 오호 이런 형식도 가능함. 오직 튜플에서만 가능한 unpacking의 기능!\n",
    "# 근데 이련 형식은 \"클린코드\"가 아니다 (눈으로 딱 보고 직관적으로 이해가능한 코드형식)\n",
    "\n",
    "filename, extension = os.path.splitext((os.path.split(file_path)[1]))\n",
    "print(filename, extension)\n",
    "\n",
    "\n",
    "#아래의 형태가, \"클린코드\"\n",
    "A = os.path.split(file_path)[1]\n",
    "filename, extension = os.path.splitext(A)\n",
    "print(filename, extension)"
   ]
  },
  {
   "cell_type": "markdown",
   "metadata": {},
   "source": [
    "---"
   ]
  },
  {
   "cell_type": "markdown",
   "metadata": {},
   "source": [
    "###### 개념설명\n",
    "\n",
    "#### 파일 및 폴더를 다루는 os 라이브러리 사용하기\n",
    "\n",
    "- os 라이브러리는 운영체제를 통하여 파일 및 폴더를 관리하는데 도움을 주는 다양한 함수를 제공합니다."
   ]
  },
  {
   "cell_type": "markdown",
   "metadata": {},
   "source": [
    "- 먼저 문제에서 이동하여야 하는 폴더인 `Reports`, `Meetings`, `Presentations`를 폴더를 현재 작업 디렉토리에 생성하여 봅시다. "
   ]
  },
  {
   "cell_type": "markdown",
   "metadata": {},
   "source": [
    "#### os 라이브러리를 통하여 폴더 생성하기\n",
    "\n",
    "- mkdir() 함수를 통하여 폴더를 생성할 수 있습니다. 인자에는 생성할 폴더의 경로를 입력합니다.\n",
    "- make directory라는 뜻\n",
    "- 단, `이미 동일한 이름의 폴더가 존재하는 경우에는 오류`가 발생합니다."
   ]
  },
  {
   "cell_type": "code",
   "execution_count": 11,
   "metadata": {},
   "outputs": [
    {
     "ename": "FileExistsError",
     "evalue": "[WinError 183] 파일이 이미 있으므로 만들 수 없습니다: './Reports'",
     "output_type": "error",
     "traceback": [
      "\u001b[1;31m---------------------------------------------------------------------------\u001b[0m",
      "\u001b[1;31mFileExistsError\u001b[0m                           Traceback (most recent call last)",
      "Cell \u001b[1;32mIn[11], line 5\u001b[0m\n\u001b[0;32m      1\u001b[0m \u001b[38;5;66;03m# 아래 코드는 현재 디렉토리에 대하여 Reports라는 이름의 폴더를 생성합니다.\u001b[39;00m\n\u001b[0;32m      2\u001b[0m \n\u001b[0;32m      3\u001b[0m \u001b[38;5;66;03m# 아래 코드를 실행하세요\u001b[39;00m\n\u001b[1;32m----> 5\u001b[0m \u001b[43mos\u001b[49m\u001b[38;5;241;43m.\u001b[39;49m\u001b[43mmkdir\u001b[49m\u001b[43m(\u001b[49m\u001b[38;5;124;43m\"\u001b[39;49m\u001b[38;5;124;43m./Reports\u001b[39;49m\u001b[38;5;124;43m\"\u001b[39;49m\u001b[43m)\u001b[49m\n",
      "\u001b[1;31mFileExistsError\u001b[0m: [WinError 183] 파일이 이미 있으므로 만들 수 없습니다: './Reports'"
     ]
    }
   ],
   "source": [
    "# 아래 코드는 현재 디렉토리에 대하여 Reports라는 이름의 폴더를 생성합니다.\n",
    "\n",
    "# 아래 코드를 실행하세요\n",
    "\n",
    "os.mkdir(\"./Reports\")"
   ]
  },
  {
   "cell_type": "code",
   "execution_count": 12,
   "metadata": {},
   "outputs": [],
   "source": [
    "import shutil"
   ]
  },
  {
   "cell_type": "code",
   "execution_count": null,
   "metadata": {},
   "outputs": [],
   "source": [
    "shutil.rmtree(\"./Reports\")\n",
    "os.mkdir(\"./Reports\")"
   ]
  },
  {
   "cell_type": "markdown",
   "metadata": {},
   "source": [
    "###### 연습문제\n",
    "\n",
    "- 제시된 `path`변수에 저장되어 있는 경로를 통하여 폴더를 생성하시기 바랍니다."
   ]
  },
  {
   "cell_type": "code",
   "execution_count": null,
   "metadata": {},
   "outputs": [
    {
     "ename": "FileExistsError",
     "evalue": "[WinError 183] 파일이 이미 있으므로 만들 수 없습니다: './Meetings'",
     "output_type": "error",
     "traceback": [
      "\u001b[1;31m---------------------------------------------------------------------------\u001b[0m",
      "\u001b[1;31mFileExistsError\u001b[0m                           Traceback (most recent call last)",
      "Cell \u001b[1;32mIn[61], line 5\u001b[0m\n\u001b[0;32m      1\u001b[0m \u001b[38;5;66;03m# 아래에 코드를 작성하세요\u001b[39;00m\n\u001b[0;32m      2\u001b[0m \u001b[38;5;66;03m# os함수의 경우, 폴더 or 파일의 생성, 삭제를 하면, 되돌리기가 불가능하다\u001b[39;00m\n\u001b[0;32m      3\u001b[0m \u001b[38;5;66;03m# 삭제하면 복구불가능. 생성해서 덮어쓰기되면, 기존파일 싹 사라짐. 그래서 알람발생\u001b[39;00m\n\u001b[0;32m      4\u001b[0m path \u001b[38;5;241m=\u001b[39m \u001b[38;5;124m\"\u001b[39m\u001b[38;5;124m./Meetings\u001b[39m\u001b[38;5;124m\"\u001b[39m\n\u001b[1;32m----> 5\u001b[0m \u001b[43mos\u001b[49m\u001b[38;5;241;43m.\u001b[39;49m\u001b[43mmkdir\u001b[49m\u001b[43m(\u001b[49m\u001b[43mpath\u001b[49m\u001b[43m)\u001b[49m\n\u001b[0;32m      6\u001b[0m os\u001b[38;5;241m.\u001b[39mremove(path)\n",
      "\u001b[1;31mFileExistsError\u001b[0m: [WinError 183] 파일이 이미 있으므로 만들 수 없습니다: './Meetings'"
     ]
    }
   ],
   "source": [
    "# 아래에 코드를 작성하세요\n",
    "# os함수의 경우, 폴더 or 파일의 생성, 삭제를 하면, 되돌리기가 불가능하다\n",
    "# 삭제하면 복구불가능. 생성해서 덮어쓰기되면, 기존파일 싹 사라짐. 그래서 알람발생\n",
    "path = \"./Meetings\"\n",
    "os.mkdir(path)"
   ]
  },
  {
   "cell_type": "markdown",
   "metadata": {},
   "source": [
    "---\n",
    "###### 개념설명\n",
    "#### 이미 있어도 오류가 나지 않는 makedirs 함수 사용하기\n",
    "\n",
    "- makedirs의 `exist_ok` 인자를 `True` 설정하면 폴더가 이미 존재하는 경우에도 오류가 발생하지 않습니다.\n",
    "- makedirs 함수를 이용하면 중간 경로가 없는 경우에도 폴더를 생성할 수 있습니다."
   ]
  },
  {
   "cell_type": "code",
   "execution_count": null,
   "metadata": {},
   "outputs": [],
   "source": [
    "# exist_ok=True 인자를 통하여 이미 존재하는 경우에도 오류가 발생하지 않게 할 수 있습니다.\n",
    "\n",
    "# 아래에 코드를 작성하세요\n",
    "\n",
    "os.makedirs(\"./Presentations\", exist_ok=True)\n",
    "# 이미 동일한 이름의 파일이 있는 경우, 덮어쓰는 게 아니고, 파일생성명령이 없던일처럼 취소됨!"
   ]
  },
  {
   "cell_type": "markdown",
   "metadata": {},
   "source": [
    "---\n",
    "###### 개념설명\n",
    "\n",
    "### 특정 경로의 파일 및 폴더 목록 조회하기\n",
    "\n",
    "- os.listdir() 함수를 이용하여 디렉토리의 파일 및 폴더를 조회할 수 있습니다.\n",
    "- 두 반환값의 차이를 확인하여 보시기 바랍니다."
   ]
  },
  {
   "cell_type": "code",
   "execution_count": null,
   "metadata": {},
   "outputs": [
    {
     "name": "stdout",
     "output_type": "stream",
     "text": [
      "<class 'list'>\n"
     ]
    },
    {
     "data": {
      "text/plain": [
       "['CH02.ipynb', 'Meetings', 'Presentations', 'Reports', 'src']"
      ]
     },
     "execution_count": 47,
     "metadata": {},
     "output_type": "execute_result"
    }
   ],
   "source": [
    "# 인자가 없으면 현재 작업 디렉토리의 파일 및 폴더의 목록을 리스트로 반환합니다.\n",
    "\n",
    "# 아래의 코드를 실행하세요\n",
    "\n",
    "print(type(os.listdir()))\n",
    "os.listdir()"
   ]
  },
  {
   "cell_type": "code",
   "execution_count": null,
   "metadata": {},
   "outputs": [
    {
     "name": "stdout",
     "output_type": "stream",
     "text": [
      "<class 'list'>\n"
     ]
    },
    {
     "data": {
      "text/plain": [
       "['DeleteMe.txt', 'MoveMe.txt', 'MoveMyFiles', 'RemoveMe', 'RenameMe.txt']"
      ]
     },
     "execution_count": 48,
     "metadata": {},
     "output_type": "execute_result"
    }
   ],
   "source": [
    "# 인자가 존재하면, 해당 디렉토리의 파일 및 폴더의 목록을 리스트로 반환합니다.\n",
    "\n",
    "# 아래의 코드를 실행하세요\n",
    "\n",
    "target_path = \"./src/os/\"\n",
    "\n",
    "print(type(os.listdir(target_path)))\n",
    "os.listdir(target_path)"
   ]
  },
  {
   "cell_type": "markdown",
   "metadata": {},
   "source": [
    "###### 참고사항"
   ]
  },
  {
   "cell_type": "markdown",
   "metadata": {},
   "source": [
    "#### 파이썬에서의 반복문"
   ]
  },
  {
   "cell_type": "code",
   "execution_count": null,
   "metadata": {},
   "outputs": [
    {
     "name": "stdout",
     "output_type": "stream",
     "text": [
      "['CH02.ipynb', 'Meetings', 'Presentations', 'Reports', 'src']\n",
      "<class 'list'>\n"
     ]
    }
   ],
   "source": [
    "print(os.listdir())\n",
    "print(type(os.listdir()))"
   ]
  },
  {
   "cell_type": "code",
   "execution_count": null,
   "metadata": {},
   "outputs": [
    {
     "name": "stdout",
     "output_type": "stream",
     "text": [
      "<class 'str'> CH02.ipynb\n",
      "<class 'str'> Meetings\n",
      "<class 'str'> Presentations\n",
      "<class 'str'> Reports\n",
      "<class 'str'> src\n"
     ]
    }
   ],
   "source": [
    "for file in os.listdir(): #os.listdir() 부분에 리스트와 같은 반복 가능한 요소가 들어갑니다.\n",
    "    print(type(file), file) # 위에서 지정한 file에는 순서대로 내부 요소가 하나씩 할당되며, 변경된 변수의 값으로 블록의 코드가 반복되어 실행됩니다."
   ]
  },
  {
   "cell_type": "markdown",
   "metadata": {},
   "source": [
    "---\n",
    "###### 해결하기"
   ]
  },
  {
   "cell_type": "markdown",
   "metadata": {},
   "source": [
    "- 위 함수를 사용하여 `현재 작업 디렉토리`와 `./src/os/`의 모든 요소에 대해서 각각 다음을 수행하시기 바랍니다.\n",
    "\n",
    "- `os.listdir`에서 얻은 `list`의 각 요소에 대해서 `os.path.exists` 함수를 사용하여 각 파일 또는 폴더의 경로의 존재 여부를 출력하시기 바랍니다.\n",
    "\n",
    "    - `os.path.exists`는 인자로 제공된 `경로`의 존재 여부를 확인하여, `True` 또는 `False` 값으로 반환합니다.\n",
    "\n",
    "-  만약 모든 요소에 대하여 `os.path.exists` 함수의 결과가 `False라면` 왜 이러한 현상이 발생하는지 그 원인을 찾아보시기 바랍니다."
   ]
  },
  {
   "cell_type": "code",
   "execution_count": null,
   "metadata": {},
   "outputs": [
    {
     "name": "stdout",
     "output_type": "stream",
     "text": [
      "CH02.ipynb True\n",
      "Meetings True\n",
      "Presentations True\n",
      "Reports True\n",
      "src True\n",
      "\n",
      "DeleteMe.txt True\n",
      "MoveMe.txt True\n",
      "MoveMyFiles True\n",
      "RemoveMe True\n",
      "RenameMe.txt True\n",
      "\n",
      "['CH02.ipynb', 'Meetings', 'Presentations', 'Reports', 'src']\n",
      "<class 'list'>\n"
     ]
    }
   ],
   "source": [
    "# 아래에 코드를 작성하세요\n",
    "for file in os.listdir() :\n",
    "    print(file, os.path.exists(file))\n",
    "\n",
    "print(\"\")\n",
    "\n",
    "for file in os.listdir(\"./src/os\") :\n",
    "    print(file, os.path.exists(f\"./src/os/{file}\"))\n",
    "\n",
    "print(\"\")\n",
    "\n",
    "'''\n",
    "print(os.listdir(\"./\"))\n",
    "print(type(os.listdir(\"./\")))\n",
    "B = os.listdir(\"./\")\n",
    "\n",
    "\n",
    "for file in B : #os.listdir() 부분에 리스트와 같은 반복 가능한 요소가 들어갑니다.\n",
    "    print(os.path.exists(f\"./{file}\"))\n",
    "'''"
   ]
  },
  {
   "cell_type": "markdown",
   "metadata": {},
   "source": [
    "---\n",
    "###### 개념설명"
   ]
  },
  {
   "cell_type": "markdown",
   "metadata": {},
   "source": [
    "### 특정 패턴에 맞는 경로만을 리스트로 반환 받기"
   ]
  },
  {
   "cell_type": "markdown",
   "metadata": {},
   "source": [
    "- os.listdir 함수는 경로의 파일 또는 폴더의 이름과 확장자만을 리스트로 반환했습니다.\n",
    "- 특정 패턴에 맞는 경로를 리스트로 반환하는 기능에 대해서 학습하여 봅시다."
   ]
  },
  {
   "cell_type": "markdown",
   "metadata": {},
   "source": [
    "#### glob 라이브러리에 대해서"
   ]
  },
  {
   "cell_type": "markdown",
   "metadata": {},
   "source": [
    "- glob은 내장 라이브러리로 현재 경로 혹은 하위 경로에 대해서 특정 이름 패턴에 맞는 파일 및 폴더를 탐색할 때 사용하는 라이브러리 입니다."
   ]
  },
  {
   "cell_type": "code",
   "execution_count": 14,
   "metadata": {},
   "outputs": [],
   "source": [
    "import glob"
   ]
  },
  {
   "cell_type": "markdown",
   "metadata": {},
   "source": [
    "#### glob 패턴에 대해서\n",
    "\n",
    "- `glob.glob` 함수의 인자로 아래와 같은 패턴을 지정할 수 있습니다.\n"
   ]
  },
  {
   "cell_type": "markdown",
   "metadata": {},
   "source": [
    "- glob에서 `*`는 임의의 문자열을 의미합니다.\n",
    "- 따라서 *.*은 임의의 문자열.확장자 형태를 의미합니다.\n"
   ]
  },
  {
   "cell_type": "code",
   "execution_count": null,
   "metadata": {},
   "outputs": [
    {
     "data": {
      "text/plain": [
       "['CH02.ipynb', 'Meetings', 'Presentations', 'Reports', 'src']"
      ]
     },
     "execution_count": 98,
     "metadata": {},
     "output_type": "execute_result"
    }
   ],
   "source": [
    "# 해당 경로에 대한 모든 파일 및 폴더\n",
    "\n",
    "# 아래 코드를 실행하세요\n",
    "\n",
    "glob.glob(\"*\") #현재디렉토리의, 모든파일, 모든폴더\n",
    "glob.glob(\"*.*\") #현재디렉토리의, 모든파일만\n",
    "glob.glob(\"*/\")  #현재디렉토리의, 모든폴더만\n",
    "glob.glob(\"./src/os/*\")  #현재디렉토리에서, 더 하위의 디렉토리의 모든폴더, 모든폴더\n"
   ]
  },
  {
   "cell_type": "code",
   "execution_count": null,
   "metadata": {},
   "outputs": [
    {
     "data": {
      "text/plain": [
       "['./src/os\\\\DeleteMe.txt',\n",
       " './src/os\\\\MoveMe.txt',\n",
       " './src/os\\\\MoveMyFiles',\n",
       " './src/os\\\\RemoveMe',\n",
       " './src/os\\\\RenameMe.txt']"
      ]
     },
     "execution_count": 109,
     "metadata": {},
     "output_type": "execute_result"
    }
   ],
   "source": [
    "glob.glob(\"./src/os/*\")"
   ]
  },
  {
   "cell_type": "code",
   "execution_count": null,
   "metadata": {},
   "outputs": [
    {
     "data": {
      "text/plain": [
       "['CH02.ipynb']"
      ]
     },
     "execution_count": 99,
     "metadata": {},
     "output_type": "execute_result"
    }
   ],
   "source": [
    "# 해당 경로에 대한 모든 파일\n",
    "\n",
    "# 아래 코드를 실행하세요\n",
    "    \n",
    "glob.glob(\"*.*\")"
   ]
  },
  {
   "cell_type": "code",
   "execution_count": null,
   "metadata": {},
   "outputs": [
    {
     "data": {
      "text/plain": [
       "['Meetings\\\\', 'Presentations\\\\', 'Reports\\\\', 'src\\\\']"
      ]
     },
     "execution_count": 100,
     "metadata": {},
     "output_type": "execute_result"
    }
   ],
   "source": [
    "# 해당 경로에 대한 모든 폴더\n",
    "\n",
    "# 아래 코드를 실행하세요\n",
    "\n",
    "glob.glob(\"*/\")"
   ]
  },
  {
   "cell_type": "markdown",
   "metadata": {},
   "source": [
    "- glob에서 `?`는 임의의 한 문자를 의미합니다.\n",
    "- 따라서 ?.txt는 임의의 한 문자.txt 형태를 의미합니다."
   ]
  },
  {
   "cell_type": "code",
   "execution_count": null,
   "metadata": {},
   "outputs": [
    {
     "data": {
      "text/plain": [
       "['./src/glob\\\\0tpp.txt',\n",
       " './src/glob\\\\1olh.txt',\n",
       " './src/glob\\\\3ztg.txt',\n",
       " './src/glob\\\\6jrh.txt',\n",
       " './src/glob\\\\8mlb.txt',\n",
       " './src/glob\\\\r607.txt']"
      ]
     },
     "execution_count": 111,
     "metadata": {},
     "output_type": "execute_result"
    }
   ],
   "source": [
    "# 아래 코드를 실행하세요\n",
    "\n",
    "glob.glob(\"./src/glob/????.txt\") # 파일이름 문자 4개짜리만 골라줌"
   ]
  },
  {
   "cell_type": "code",
   "execution_count": null,
   "metadata": {},
   "outputs": [
    {
     "data": {
      "text/plain": [
       "['./src/glob\\\\0tpp.txt',\n",
       " './src/glob\\\\1olh.txt',\n",
       " './src/glob\\\\3ztg.txt',\n",
       " './src/glob\\\\6jrh.txt',\n",
       " './src/glob\\\\8mlb.txt',\n",
       " './src/glob\\\\cisuffix.txt',\n",
       " './src/glob\\\\dousuffix.txt',\n",
       " './src/glob\\\\insuffix.txt',\n",
       " './src/glob\\\\lbwsuffix.txt',\n",
       " './src/glob\\\\prefix3uis.txt',\n",
       " './src/glob\\\\pwnsuffix.txt',\n",
       " './src/glob\\\\r607.txt',\n",
       " './src/glob\\\\yeksuffix.txt']"
      ]
     },
     "execution_count": 127,
     "metadata": {},
     "output_type": "execute_result"
    }
   ],
   "source": [
    "glob.glob(\"./src/glob/*.txt\") # .txt파일만 골라줌"
   ]
  },
  {
   "cell_type": "markdown",
   "metadata": {},
   "source": [
    "- glob에서 `**`은 언제나 `recursive=-True`와 함께 사용됩니다.\n",
    "- **는 모든 경로를 의미합니다.\n",
    "- 이때, 작성한 경로를 포함한 모든 하위 경로를 탐색합니다."
   ]
  },
  {
   "cell_type": "code",
   "execution_count": null,
   "metadata": {},
   "outputs": [
    {
     "name": "stdout",
     "output_type": "stream",
     "text": [
      "['.\\\\src\\\\3HC회의록GLLrU.doc', '.\\\\src\\\\5CzHV발표자료xnl0.pdf', '.\\\\src\\\\65tcQ회의록C.docx', '.\\\\src\\\\6bYN회의록yPzx3.docx', '.\\\\src\\\\7발표자료WHLj.docx', '.\\\\src\\\\9HD보고서3vQs.pdf', '.\\\\src\\\\A6J8v발표목록Yfhi.pdf', '.\\\\src\\\\Ae발표문BHVX.docx', '.\\\\src\\\\A회의록E.doc', '.\\\\src\\\\d49보고서F.txt', '.\\\\src\\\\Dna보고서WlId.pdf', '.\\\\src\\\\Em발표자료W8AY.pptx', '.\\\\src\\\\f3발표목록QAXGE.hwp', '.\\\\src\\\\gGHb8발표자료S.hwp', '.\\\\src\\\\jCw발표목록Db6d.pdf', '.\\\\src\\\\kX4보고서Y.txt', '.\\\\src\\\\LcuvD보고서hMHGw.pdf', '.\\\\src\\\\O발표문3Vk.pptx', '.\\\\src\\\\PE9F발표문vVb.pdf', '.\\\\src\\\\PuMcl회의록mycgk.doc', '.\\\\src\\\\rfzj회의록xJl.docx', '.\\\\src\\\\rjMw7회의록t.docx', '.\\\\src\\\\rYfw회의록KEX.doc', '.\\\\src\\\\s58j보고서9ps.docx', '.\\\\src\\\\SSKk2발표목록VY.hwp', '.\\\\src\\\\toF1f보고서oRpG.docx', '.\\\\src\\\\T보고서ID4Cd.txt', '.\\\\src\\\\uOq보고서wD.docx', '.\\\\src\\\\U보고서iuOFA.txt', '.\\\\src\\\\Vl0iZ발표문Q97ud.hwp', '.\\\\src\\\\V발표자료9.docx', '.\\\\src\\\\wNE2회의록fP4.pdf', '.\\\\src\\\\xjjL발표문Otx.docx', '.\\\\src\\\\z1J회의록a.doc', '.\\\\src\\\\zkG0발표목록nZeC.docx']\n",
      "['.\\\\CH02.ipynb', '.\\\\src\\\\3HC회의록GLLrU.doc', '.\\\\src\\\\5CzHV발표자료xnl0.pdf', '.\\\\src\\\\65tcQ회의록C.docx', '.\\\\src\\\\6bYN회의록yPzx3.docx', '.\\\\src\\\\7발표자료WHLj.docx', '.\\\\src\\\\9HD보고서3vQs.pdf', '.\\\\src\\\\A6J8v발표목록Yfhi.pdf', '.\\\\src\\\\Ae발표문BHVX.docx', '.\\\\src\\\\A회의록E.doc', '.\\\\src\\\\d49보고서F.txt', '.\\\\src\\\\Dna보고서WlId.pdf', '.\\\\src\\\\Em발표자료W8AY.pptx', '.\\\\src\\\\f3발표목록QAXGE.hwp', '.\\\\src\\\\gGHb8발표자료S.hwp', '.\\\\src\\\\jCw발표목록Db6d.pdf', '.\\\\src\\\\kX4보고서Y.txt', '.\\\\src\\\\LcuvD보고서hMHGw.pdf', '.\\\\src\\\\O발표문3Vk.pptx', '.\\\\src\\\\PE9F발표문vVb.pdf', '.\\\\src\\\\PuMcl회의록mycgk.doc', '.\\\\src\\\\rfzj회의록xJl.docx', '.\\\\src\\\\rjMw7회의록t.docx', '.\\\\src\\\\rYfw회의록KEX.doc', '.\\\\src\\\\s58j보고서9ps.docx', '.\\\\src\\\\SSKk2발표목록VY.hwp', '.\\\\src\\\\toF1f보고서oRpG.docx', '.\\\\src\\\\T보고서ID4Cd.txt', '.\\\\src\\\\uOq보고서wD.docx', '.\\\\src\\\\U보고서iuOFA.txt', '.\\\\src\\\\Vl0iZ발표문Q97ud.hwp', '.\\\\src\\\\V발표자료9.docx', '.\\\\src\\\\wNE2회의록fP4.pdf', '.\\\\src\\\\xjjL발표문Otx.docx', '.\\\\src\\\\z1J회의록a.doc', '.\\\\src\\\\zkG0발표목록nZeC.docx', '.\\\\src\\\\glob\\\\0awjpattern.jpg', '.\\\\src\\\\glob\\\\0etvpattern.png', '.\\\\src\\\\glob\\\\0tpp.txt', '.\\\\src\\\\glob\\\\1adl.pdf', '.\\\\src\\\\glob\\\\1ikhpattern.pdf', '.\\\\src\\\\glob\\\\1iuypattern.avi', '.\\\\src\\\\glob\\\\1olh.txt', '.\\\\src\\\\glob\\\\3eoypattern.png', '.\\\\src\\\\glob\\\\3ztg.txt', '.\\\\src\\\\glob\\\\4mma.pdf', '.\\\\src\\\\glob\\\\4pqhpattern.pptx', '.\\\\src\\\\glob\\\\5dyopattern.mp4', '.\\\\src\\\\glob\\\\6djv.pdf', '.\\\\src\\\\glob\\\\6jrh.txt', '.\\\\src\\\\glob\\\\7osjpattern.png', '.\\\\src\\\\glob\\\\7qospattern.jpg', '.\\\\src\\\\glob\\\\7upppattern.pptx', '.\\\\src\\\\glob\\\\8mlb.txt', '.\\\\src\\\\glob\\\\8wuq.pdf', '.\\\\src\\\\glob\\\\8ylw.pdf', '.\\\\src\\\\glob\\\\c199.mp4', '.\\\\src\\\\glob\\\\cgwsuffix.mp4', '.\\\\src\\\\glob\\\\cisuffix.txt', '.\\\\src\\\\glob\\\\dousuffix.txt', '.\\\\src\\\\glob\\\\dsuffix.mp4', '.\\\\src\\\\glob\\\\fsuffix.jpg', '.\\\\src\\\\glob\\\\ftjsuffix.xlsx', '.\\\\src\\\\glob\\\\gsuffix.xlsx', '.\\\\src\\\\glob\\\\hsuffix.jpg', '.\\\\src\\\\glob\\\\hsuffix.xlsx', '.\\\\src\\\\glob\\\\ilasuffix.pptx', '.\\\\src\\\\glob\\\\insuffix.txt', '.\\\\src\\\\glob\\\\jnsuffix.pdf', '.\\\\src\\\\glob\\\\jsuffix.pptx', '.\\\\src\\\\glob\\\\lbwsuffix.txt', '.\\\\src\\\\glob\\\\oosuffix.png', '.\\\\src\\\\glob\\\\osuffix.docx', '.\\\\src\\\\glob\\\\ozsuffix.png', '.\\\\src\\\\glob\\\\pgsuffix.avi', '.\\\\src\\\\glob\\\\prefix0bwz.pptx', '.\\\\src\\\\glob\\\\prefix0voy.jpg', '.\\\\src\\\\glob\\\\prefix1fvy.pdf', '.\\\\src\\\\glob\\\\prefix3uis.txt', '.\\\\src\\\\glob\\\\prefix3zjq.avi', '.\\\\src\\\\glob\\\\prefix5tjo.jpg', '.\\\\src\\\\glob\\\\prefix7krq.avi', '.\\\\src\\\\glob\\\\prefix8rdb.pdf', '.\\\\src\\\\glob\\\\prefix9eia.pptx', '.\\\\src\\\\glob\\\\prefix9emc.pdf', '.\\\\src\\\\glob\\\\psuffix.pdf', '.\\\\src\\\\glob\\\\pvksuffix.avi', '.\\\\src\\\\glob\\\\pwnsuffix.txt', '.\\\\src\\\\glob\\\\q126.png', '.\\\\src\\\\glob\\\\q403.png', '.\\\\src\\\\glob\\\\qpsuffix.xlsx', '.\\\\src\\\\glob\\\\r607.txt', '.\\\\src\\\\glob\\\\rrsuffix.jpg', '.\\\\src\\\\glob\\\\s340.pptx', '.\\\\src\\\\glob\\\\shsuffix.mp4', '.\\\\src\\\\glob\\\\t042.xlsx', '.\\\\src\\\\glob\\\\tbsuffix.png', '.\\\\src\\\\glob\\\\v800.png', '.\\\\src\\\\glob\\\\vfwsuffix.mp4', '.\\\\src\\\\glob\\\\vsuffix.mp4', '.\\\\src\\\\glob\\\\vzfsuffix.docx', '.\\\\src\\\\glob\\\\w245.docx', '.\\\\src\\\\glob\\\\x369.mp4', '.\\\\src\\\\glob\\\\x520.png', '.\\\\src\\\\glob\\\\xsuffix.jpg', '.\\\\src\\\\glob\\\\yeksuffix.txt', '.\\\\src\\\\glob\\\\과055.jpg', '.\\\\src\\\\glob\\\\나924.avi', '.\\\\src\\\\glob\\\\너799.jpg', '.\\\\src\\\\glob\\\\는171.pptx', '.\\\\src\\\\glob\\\\니695.avi', '.\\\\src\\\\glob\\\\많314.mp4', '.\\\\src\\\\glob\\\\머487.jpg', '.\\\\src\\\\glob\\\\쓸112.mp4', '.\\\\src\\\\glob\\\\쓸239.png', '.\\\\src\\\\glob\\\\에854.pdf', '.\\\\src\\\\os\\\\DeleteMe.txt', '.\\\\src\\\\os\\\\MoveMe.txt', '.\\\\src\\\\os\\\\RenameMe.txt', '.\\\\src\\\\os\\\\MoveMyFiles\\\\artvy83445.png', '.\\\\src\\\\os\\\\MoveMyFiles\\\\cxdka58411.docx', '.\\\\src\\\\os\\\\MoveMyFiles\\\\dkcjl83273.avi', '.\\\\src\\\\os\\\\MoveMyFiles\\\\gacwz53547.docx', '.\\\\src\\\\os\\\\MoveMyFiles\\\\qnfrl59103.jpg', '.\\\\src\\\\os\\\\RemoveMe\\\\artvy83445.png', '.\\\\src\\\\os\\\\RemoveMe\\\\cxdka58411.docx', '.\\\\src\\\\os\\\\RemoveMe\\\\dkcjl83273.avi', '.\\\\src\\\\os\\\\RemoveMe\\\\gacwz53547.docx', '.\\\\src\\\\os\\\\RemoveMe\\\\qnfrl59103.jpg', '.\\\\src\\\\shutil\\\\CopyMe.txt', '.\\\\src\\\\shutil\\\\MoveMe.txt', '.\\\\src\\\\shutil\\\\CopyMe\\\\artvy83445.png', '.\\\\src\\\\shutil\\\\CopyMe\\\\cxdka58411.docx', '.\\\\src\\\\shutil\\\\CopyMe\\\\dkcjl83273.avi', '.\\\\src\\\\shutil\\\\CopyMe\\\\gacwz53547.docx', '.\\\\src\\\\shutil\\\\CopyMe\\\\qnfrl59103.jpg', '.\\\\src\\\\shutil\\\\RemoveMe\\\\artvy83445.png', '.\\\\src\\\\shutil\\\\RemoveMe\\\\cxdka58411.docx', '.\\\\src\\\\shutil\\\\RemoveMe\\\\dkcjl83273.avi', '.\\\\src\\\\shutil\\\\RemoveMe\\\\gacwz53547.docx', '.\\\\src\\\\shutil\\\\RemoveMe\\\\qnfrl59103.jpg']\n"
     ]
    }
   ],
   "source": [
    "# recursive 조건과 ** 사용하기\n",
    "\n",
    "# 아래 코드를 수정하세요\n",
    "\n",
    "print(glob.glob(\"./**/*.*\", recursive=False))\n",
    "print(glob.glob(\"./**/*.*\", recursive=True))"
   ]
  },
  {
   "cell_type": "code",
   "execution_count": null,
   "metadata": {},
   "outputs": [
    {
     "name": "stdout",
     "output_type": "stream",
     "text": [
      "['./Test\\\\Test2\\\\A', './Test\\\\Test3\\\\B']\n",
      "['./Test\\\\Test2', './Test\\\\Test3', './Test\\\\Test4', './Test\\\\Test2\\\\A', './Test\\\\Test3\\\\B', './Test\\\\Test3\\\\B\\\\C']\n"
     ]
    }
   ],
   "source": [
    "print(glob.glob(\"./Test/**/*\", recursive=False))\n",
    "print(glob.glob(\"./Test/**/*\", recursive=True))"
   ]
  },
  {
   "cell_type": "markdown",
   "metadata": {},
   "source": [
    "- glob에서 `[]`는 대괄호 안에 있는 문자 중 하나를 의미합니다.\n",
    "- 따라서 [abc].txt는 a.txt, b.txt, c.txt 형태를 의미합니다.\n",
    "- [0-9].txt는 연속된 요소를 표현하며, 0.txt, 1.txt, 2.txt ... 9.txt 형태를 의미합니다."
   ]
  },
  {
   "cell_type": "code",
   "execution_count": null,
   "metadata": {},
   "outputs": [
    {
     "data": {
      "text/plain": [
       "['./src/glob\\\\0tpp.txt',\n",
       " './src/glob\\\\1olh.txt',\n",
       " './src/glob\\\\3ztg.txt',\n",
       " './src/glob\\\\6jrh.txt',\n",
       " './src/glob\\\\8mlb.txt']"
      ]
     },
     "execution_count": 122,
     "metadata": {},
     "output_type": "execute_result"
    }
   ],
   "source": [
    "# 특정 폴더(./src/glob)에서 숫자로 시작하는 특정 확장자(.txt) 파일 찾기\n",
    "\n",
    "# 아래의 코드를 실행하세요\n",
    "\n",
    "glob.glob(\"./src/glob/[0-9]*.txt\")"
   ]
  },
  {
   "cell_type": "code",
   "execution_count": 53,
   "metadata": {},
   "outputs": [
    {
     "data": {
      "text/plain": [
       "['./src/glob\\\\0tpp.txt',\n",
       " './src/glob\\\\1olh.txt',\n",
       " './src/glob\\\\3ztg.txt',\n",
       " './src/glob\\\\4pqhpattern.pptx',\n",
       " './src/glob\\\\6jrh.txt',\n",
       " './src/glob\\\\7upppattern.pptx',\n",
       " './src/glob\\\\8mlb.txt',\n",
       " './src/glob\\\\cisuffix.txt',\n",
       " './src/glob\\\\dousuffix.txt',\n",
       " './src/glob\\\\ftjsuffix.xlsx',\n",
       " './src/glob\\\\gsuffix.xlsx',\n",
       " './src/glob\\\\hsuffix.xlsx',\n",
       " './src/glob\\\\ilasuffix.pptx',\n",
       " './src/glob\\\\insuffix.txt',\n",
       " './src/glob\\\\jsuffix.pptx',\n",
       " './src/glob\\\\lbwsuffix.txt',\n",
       " './src/glob\\\\osuffix.docx',\n",
       " './src/glob\\\\prefix0bwz.pptx',\n",
       " './src/glob\\\\prefix3uis.txt',\n",
       " './src/glob\\\\prefix9eia.pptx',\n",
       " './src/glob\\\\pwnsuffix.txt',\n",
       " './src/glob\\\\qpsuffix.xlsx',\n",
       " './src/glob\\\\r607.txt',\n",
       " './src/glob\\\\s340.pptx',\n",
       " './src/glob\\\\t042.xlsx',\n",
       " './src/glob\\\\vzfsuffix.docx',\n",
       " './src/glob\\\\w245.docx',\n",
       " './src/glob\\\\yeksuffix - 복사본.txt',\n",
       " './src/glob\\\\yeksuffix.txt',\n",
       " './src/glob\\\\는171.pptx']"
      ]
     },
     "execution_count": 53,
     "metadata": {},
     "output_type": "execute_result"
    }
   ],
   "source": [
    "# 원하는 확장자만 골라서 파일 찾기\n",
    "glob.glob(\"./src/glob/*[.txt, .doc]\")"
   ]
  },
  {
   "cell_type": "code",
   "execution_count": null,
   "metadata": {},
   "outputs": [
    {
     "data": {
      "text/plain": [
       "['./src/glob\\\\dsuffix.mp4']"
      ]
     },
     "execution_count": 166,
     "metadata": {},
     "output_type": "execute_result"
    }
   ],
   "source": [
    "# ds로 시작하는 파일 찾기\n",
    "glob.glob(\"./src/glob/ds*.*\")"
   ]
  },
  {
   "cell_type": "markdown",
   "metadata": {},
   "source": [
    "---\n",
    "###### 연습문제\n",
    "\n",
    "- 다음의 문제를 해결하시기 바랍니다."
   ]
  },
  {
   "cell_type": "code",
   "execution_count": null,
   "metadata": {},
   "outputs": [
    {
     "data": {
      "text/plain": [
       "['./src/glob\\\\Az3.txt',\n",
       " './src/glob\\\\c199.mp4',\n",
       " './src/glob\\\\cgwsuffix.mp4',\n",
       " './src/glob\\\\cisuffix.txt',\n",
       " './src/glob\\\\dousuffix.txt',\n",
       " './src/glob\\\\dsuffix.mp4',\n",
       " './src/glob\\\\fsuffix.jpg',\n",
       " './src/glob\\\\ftjsuffix.xlsx',\n",
       " './src/glob\\\\gsuffix.xlsx',\n",
       " './src/glob\\\\hsuffix.jpg',\n",
       " './src/glob\\\\hsuffix.xlsx',\n",
       " './src/glob\\\\ilasuffix.pptx',\n",
       " './src/glob\\\\insuffix.txt',\n",
       " './src/glob\\\\jnsuffix.pdf',\n",
       " './src/glob\\\\jsuffix.pptx',\n",
       " './src/glob\\\\lbwsuffix.txt',\n",
       " './src/glob\\\\oosuffix.png',\n",
       " './src/glob\\\\osuffix.docx',\n",
       " './src/glob\\\\ozsuffix.png',\n",
       " './src/glob\\\\pgsuffix.avi',\n",
       " './src/glob\\\\prefix0bwz.pptx',\n",
       " './src/glob\\\\prefix0voy.jpg',\n",
       " './src/glob\\\\prefix1fvy.pdf',\n",
       " './src/glob\\\\prefix3uis.txt',\n",
       " './src/glob\\\\prefix3zjq.avi',\n",
       " './src/glob\\\\prefix5tjo.jpg',\n",
       " './src/glob\\\\prefix7krq.avi',\n",
       " './src/glob\\\\prefix8rdb.pdf',\n",
       " './src/glob\\\\prefix9eia.pptx',\n",
       " './src/glob\\\\prefix9emc.pdf',\n",
       " './src/glob\\\\psuffix.pdf',\n",
       " './src/glob\\\\pvksuffix.avi',\n",
       " './src/glob\\\\pwnsuffix.txt',\n",
       " './src/glob\\\\q126.png',\n",
       " './src/glob\\\\q403.png',\n",
       " './src/glob\\\\qpsuffix.xlsx',\n",
       " './src/glob\\\\r607.txt',\n",
       " './src/glob\\\\rrsuffix.jpg',\n",
       " './src/glob\\\\s340.pptx',\n",
       " './src/glob\\\\shsuffix.mp4',\n",
       " './src/glob\\\\t042.xlsx',\n",
       " './src/glob\\\\tbsuffix.png',\n",
       " './src/glob\\\\v800.png',\n",
       " './src/glob\\\\vfwsuffix.mp4',\n",
       " './src/glob\\\\vsuffix.mp4',\n",
       " './src/glob\\\\vzfsuffix.docx',\n",
       " './src/glob\\\\w245.docx',\n",
       " './src/glob\\\\x369.mp4',\n",
       " './src/glob\\\\x520.png',\n",
       " './src/glob\\\\xsuffix.jpg',\n",
       " './src/glob\\\\yeksuffix.txt']"
      ]
     },
     "execution_count": 165,
     "metadata": {},
     "output_type": "execute_result"
    }
   ],
   "source": [
    "# 특정 폴더(./src/glob)에서 알파벳으로 시작하는 모든 확장자의 파일 찾기\n",
    "\n",
    "# 아래에 코드를 작성하세요\n",
    "glob.glob(\"./src/glob/[A-Za-z]*.*\")\n"
   ]
  },
  {
   "cell_type": "code",
   "execution_count": null,
   "metadata": {},
   "outputs": [
    {
     "data": {
      "text/plain": [
       "['./src/glob\\\\prefix0bwz.pptx',\n",
       " './src/glob\\\\prefix0voy.jpg',\n",
       " './src/glob\\\\prefix1fvy.pdf',\n",
       " './src/glob\\\\prefix3uis.txt',\n",
       " './src/glob\\\\prefix3zjq.avi',\n",
       " './src/glob\\\\prefix5tjo.jpg',\n",
       " './src/glob\\\\prefix7krq.avi',\n",
       " './src/glob\\\\prefix8rdb.pdf',\n",
       " './src/glob\\\\prefix9eia.pptx',\n",
       " './src/glob\\\\prefix9emc.pdf']"
      ]
     },
     "execution_count": 167,
     "metadata": {},
     "output_type": "execute_result"
    }
   ],
   "source": [
    "# 특정 폴더(./src/glob)에서 prefix로 시작하는 모든 확장자의 파일 찾기\n",
    "\n",
    "# 아래에 코드를 작성하세요\n",
    "glob.glob(\"./src/glob/prefix*.*\")\n"
   ]
  },
  {
   "cell_type": "code",
   "execution_count": null,
   "metadata": {},
   "outputs": [
    {
     "data": {
      "text/plain": [
       "['./src/glob\\\\dsuffix.mp4',\n",
       " './src/glob\\\\fsuffix.jpg',\n",
       " './src/glob\\\\gsuffix.xlsx',\n",
       " './src/glob\\\\hsuffix.jpg',\n",
       " './src/glob\\\\hsuffix.xlsx',\n",
       " './src/glob\\\\jsuffix.pptx',\n",
       " './src/glob\\\\osuffix.docx',\n",
       " './src/glob\\\\psuffix.pdf',\n",
       " './src/glob\\\\vsuffix.mp4',\n",
       " './src/glob\\\\xsuffix.jpg']"
      ]
     },
     "execution_count": 168,
     "metadata": {},
     "output_type": "execute_result"
    }
   ],
   "source": [
    "# 특정 폴더(./src/glob)에서 어떠한 한글자 다음 suffix로 끝나는 모든 확장자의 파일 찾기\n",
    "\n",
    "# 아래에 코드를 작성하세요\n",
    "glob.glob(\"./src/glob/?suffix.*\")\n"
   ]
  },
  {
   "cell_type": "code",
   "execution_count": null,
   "metadata": {},
   "outputs": [
    {
     "data": {
      "text/plain": [
       "['.\\\\suffix.txt',\n",
       " '.\\\\src\\\\glob\\\\cgwsuffix.mp4',\n",
       " '.\\\\src\\\\glob\\\\cisuffix.txt',\n",
       " '.\\\\src\\\\glob\\\\dousuffix.txt',\n",
       " '.\\\\src\\\\glob\\\\dsuffix.mp4',\n",
       " '.\\\\src\\\\glob\\\\fsuffix.jpg',\n",
       " '.\\\\src\\\\glob\\\\ftjsuffix.xlsx',\n",
       " '.\\\\src\\\\glob\\\\gsuffix.xlsx',\n",
       " '.\\\\src\\\\glob\\\\hsuffix.jpg',\n",
       " '.\\\\src\\\\glob\\\\hsuffix.xlsx',\n",
       " '.\\\\src\\\\glob\\\\ilasuffix.pptx',\n",
       " '.\\\\src\\\\glob\\\\insuffix.txt',\n",
       " '.\\\\src\\\\glob\\\\jnsuffix.pdf',\n",
       " '.\\\\src\\\\glob\\\\jsuffix.pptx',\n",
       " '.\\\\src\\\\glob\\\\lbwsuffix.txt',\n",
       " '.\\\\src\\\\glob\\\\oosuffix.png',\n",
       " '.\\\\src\\\\glob\\\\osuffix.docx',\n",
       " '.\\\\src\\\\glob\\\\ozsuffix.png',\n",
       " '.\\\\src\\\\glob\\\\pgsuffix.avi',\n",
       " '.\\\\src\\\\glob\\\\psuffix.pdf',\n",
       " '.\\\\src\\\\glob\\\\pvksuffix.avi',\n",
       " '.\\\\src\\\\glob\\\\pwnsuffix.txt',\n",
       " '.\\\\src\\\\glob\\\\qpsuffix.xlsx',\n",
       " '.\\\\src\\\\glob\\\\rrsuffix.jpg',\n",
       " '.\\\\src\\\\glob\\\\shsuffix.mp4',\n",
       " '.\\\\src\\\\glob\\\\tbsuffix.png',\n",
       " '.\\\\src\\\\glob\\\\vfwsuffix.mp4',\n",
       " '.\\\\src\\\\glob\\\\vsuffix.mp4',\n",
       " '.\\\\src\\\\glob\\\\vzfsuffix.docx',\n",
       " '.\\\\src\\\\glob\\\\xsuffix.jpg',\n",
       " '.\\\\src\\\\glob\\\\yeksuffix.txt']"
      ]
     },
     "execution_count": 169,
     "metadata": {},
     "output_type": "execute_result"
    }
   ],
   "source": [
    "# 현재 작업 디렉토리(./)의 모든 경로(작성한 현재 폴더와 모든 하위 폴더)에서 suffix로 끝나는 모든 확장자의 파일 찾기\n",
    "\n",
    "# 아래에 코드를 작성하세요\n",
    "glob.glob(\"./**/*suffix.*\", recursive=True)\n"
   ]
  },
  {
   "cell_type": "markdown",
   "metadata": {},
   "source": [
    "---\n",
    "###### 해결하기\n",
    "\n"
   ]
  },
  {
   "cell_type": "markdown",
   "metadata": {},
   "source": [
    "- `./src`에 대해서 `보고서`, `회의록`, `발표자료`가 포함된 파일의 경로를 각각 `report_path_list`, `meeting_path_list`, `presentation_path_list`에 리스트로 반환 받으시기를 바랍니다."
   ]
  },
  {
   "cell_type": "code",
   "execution_count": 15,
   "metadata": {},
   "outputs": [
    {
     "data": {
      "text/plain": [
       "['./src\\\\9HD보고서3vQs.pdf',\n",
       " './src\\\\d49보고서F.txt',\n",
       " './src\\\\Dna보고서WlId.pdf',\n",
       " './src\\\\kX4보고서Y.txt',\n",
       " './src\\\\LcuvD보고서hMHGw.pdf',\n",
       " './src\\\\s58j보고서9ps.docx',\n",
       " './src\\\\toF1f보고서oRpG.docx',\n",
       " './src\\\\T보고서ID4Cd.txt',\n",
       " './src\\\\uOq보고서wD.docx',\n",
       " './src\\\\U보고서iuOFA.txt']"
      ]
     },
     "execution_count": 15,
     "metadata": {},
     "output_type": "execute_result"
    }
   ],
   "source": [
    "# 아래에 코드를 작성하세요\n",
    "report_path_list = glob.glob(\"./src/*보고서*.*\")\n",
    "meeting_path_list = glob.glob(\"./src/*회의록*.*\")\n",
    "presentation_path_list = glob.glob(\"./src/*발표자료*.*\")\n",
    "\n",
    "glob.glob(\"./src/*보고서*.*\")"
   ]
  },
  {
   "cell_type": "markdown",
   "metadata": {},
   "source": [
    "---\n",
    "###### 개념설명\n",
    "\n",
    "### 이동, 복사, 삭제 기능으로 파일의 경로를 조작하기"
   ]
  },
  {
   "cell_type": "markdown",
   "metadata": {},
   "source": [
    "- 위에서 우리는 경로를 조회하고 불러오는 방법에 대해서 학습하였습니다.\n",
    "- 이제 이러한 경로를 가지고 실제 파일의 위치를 변경하는 방법에 대해서 학습하여 보도록 합시다."
   ]
  },
  {
   "cell_type": "markdown",
   "metadata": {},
   "source": [
    "- 파일 및 폴더를 이동, 복사, 삭제하기 위해서는 `os`, `shutil` 2가지의 라이브러리를 사용할 수 있습니다."
   ]
  },
  {
   "cell_type": "markdown",
   "metadata": {},
   "source": [
    "- 각 라이브러리는 유사한 기능을 가지고 있으나, 세세한 부분에서 다소 차이가 있으니, 이 차이를 유의하시기 바랍니다."
   ]
  },
  {
   "cell_type": "markdown",
   "metadata": {},
   "source": [
    "---\n",
    "###### 개념설명"
   ]
  },
  {
   "cell_type": "markdown",
   "metadata": {},
   "source": [
    "### 파일 이동하기 (`os.rename`, `shutil.move`)"
   ]
  },
  {
   "cell_type": "markdown",
   "metadata": {},
   "source": [
    "- `os.rename`과 `shutil.move`를 통하여 파일을 이동할 수 있습니다.\n",
    "- `os`와 `shutil` 모두 표준 라이브러리로 별도의 설치는 필요하지 않습니다."
   ]
  },
  {
   "cell_type": "markdown",
   "metadata": {},
   "source": [
    "#### `os.rename`을 통하여 파일 이동하기"
   ]
  },
  {
   "cell_type": "markdown",
   "metadata": {},
   "source": [
    "- 파일을 이동할 때는 os.`rename` 함수를 이용합니다. >> 함수명이랑 기능이랑 좀 다르네!!\n",
    "- os.`rename` 함수는 파일의 이름을 변경할 때도 사용할 수 있습니다.\n",
    "- rename 함수의 첫 번째 인자는 이동할 파일의 경로이고, 두 번째 인자는 이동할 경로입니다.\n",
    "- rename이지만 path에 대하여 rename을 수행한다고 생각하면 됩니다."
   ]
  },
  {
   "cell_type": "code",
   "execution_count": 16,
   "metadata": {},
   "outputs": [],
   "source": [
    "import os"
   ]
  },
  {
   "cell_type": "code",
   "execution_count": null,
   "metadata": {},
   "outputs": [
    {
     "ename": "FileNotFoundError",
     "evalue": "[WinError 2] 지정된 파일을 찾을 수 없습니다: './src/os/RenameMe.txt' -> './src/os/RenamedMe.txt'",
     "output_type": "error",
     "traceback": [
      "\u001b[1;31m---------------------------------------------------------------------------\u001b[0m",
      "\u001b[1;31mFileNotFoundError\u001b[0m                         Traceback (most recent call last)",
      "Cell \u001b[1;32mIn[174], line 8\u001b[0m\n\u001b[0;32m      4\u001b[0m os\u001b[38;5;241m.\u001b[39mmakedirs(\u001b[38;5;124m\"\u001b[39m\u001b[38;5;124m./src/os/MoveToHere/\u001b[39m\u001b[38;5;124m\"\u001b[39m, exist_ok\u001b[38;5;241m=\u001b[39m\u001b[38;5;28;01mTrue\u001b[39;00m)\n\u001b[0;32m      6\u001b[0m \u001b[38;5;66;03m# 아래 코드를 실행하세요\u001b[39;00m\n\u001b[1;32m----> 8\u001b[0m \u001b[43mos\u001b[49m\u001b[38;5;241;43m.\u001b[39;49m\u001b[43mrename\u001b[49m\u001b[43m(\u001b[49m\u001b[43msrc\u001b[49m\u001b[43m,\u001b[49m\u001b[43m \u001b[49m\u001b[43mdest\u001b[49m\u001b[43m)\u001b[49m\n",
      "\u001b[1;31mFileNotFoundError\u001b[0m: [WinError 2] 지정된 파일을 찾을 수 없습니다: './src/os/RenameMe.txt' -> './src/os/RenamedMe.txt'"
     ]
    }
   ],
   "source": [
    "src =  \"./src/os/RenameMe.txt\"\n",
    "dest = \"./src/os/RenamedMe.txt\"\n",
    "\n",
    "os.makedirs(\"./src/os/MoveToHere/\", exist_ok=True)\n",
    "\n",
    "# 아래 코드를 실행하세요\n",
    "\n",
    "os.rename(src, dest) #src의 파일이, dest의파일로 변경된다"
   ]
  },
  {
   "cell_type": "code",
   "execution_count": null,
   "metadata": {},
   "outputs": [],
   "source": [
    "src = \"./src/os/MoveMe.txt\"\n",
    "dest = \"./src/os/MoveToHere/MoveMe.txt\"\n",
    "\n",
    "os.makedirs(\"./src/os/MoveToHere/\", exist_ok=True)\n",
    "\n",
    "# 아래 코드를 실행하세요\n",
    "\n",
    "os.rename(src, dest)"
   ]
  },
  {
   "cell_type": "markdown",
   "metadata": {},
   "source": [
    "---\n",
    "###### 연습 문제\n",
    "\n",
    "- ./src/os/MoveMyFiles 폴더에 있는 모든 파일을 `os.rename` 메서드로 ./src/os/MoveToHere 폴더로 모두 이동시키는 코드를 작성하시오."
   ]
  },
  {
   "cell_type": "code",
   "execution_count": null,
   "metadata": {},
   "outputs": [
    {
     "name": "stdout",
     "output_type": "stream",
     "text": [
      "./src/os/MoveMyFiles/artvy83445.png\n",
      "./src/os/MoveToHere/artvy83445.png\n",
      "\n",
      "./src/os/MoveMyFiles/cxdka58411.docx\n",
      "./src/os/MoveToHere/cxdka58411.docx\n",
      "\n",
      "./src/os/MoveMyFiles/dkcjl83273.avi\n",
      "./src/os/MoveToHere/dkcjl83273.avi\n",
      "\n",
      "./src/os/MoveMyFiles/gacwz53547.docx\n",
      "./src/os/MoveToHere/gacwz53547.docx\n",
      "\n",
      "./src/os/MoveMyFiles/MoveMe.txt\n",
      "./src/os/MoveToHere/MoveMe.txt\n",
      "\n",
      "./src/os/MoveMyFiles/qnfrl59103.jpg\n",
      "./src/os/MoveToHere/qnfrl59103.jpg\n",
      "\n"
     ]
    }
   ],
   "source": [
    "src_path =  \"./src/os/MoveMyFiles/\"\n",
    "dest_path = \"./src/os/MoveToHere/\"\n",
    "\n",
    "os.makedirs(dest_path, exist_ok=True)\n",
    "\n",
    "# 아래에 코드를 작성하세요\n",
    "\n",
    "# os.listdir(src_path)\n",
    "\n",
    "for file in os.listdir(src_path) :\n",
    "    # os.rename(f\"./src/os/MoveMyFiles/{file}\", f\"./src/os/MoveToHere/{file}\")\n",
    "    src  = os.path.join(src_path, file)\n",
    "    dest = os.path.join(dest_path, file)\n",
    "    print(src)\n",
    "    print(dest)\n",
    "    print(\"\")\n",
    "    os.rename(src, dest)"
   ]
  },
  {
   "cell_type": "markdown",
   "metadata": {},
   "source": [
    "---\n",
    "###### 개념설명"
   ]
  },
  {
   "cell_type": "markdown",
   "metadata": {},
   "source": [
    "#### `shutil`을 이용한 파일의 복사 및 이동\n",
    "\n",
    "- shutil.`copy` 함수는 파일을 복사할 때 사용합니다.\n",
    "- `copy`와 `move` 함수의 첫 번째 인자는 복사할 파일의 경로이고, 두 번째 인자는 복사될 경로입니다.\n",
    "- shutil.`move`함수는 파일이나 폴더를 이동할 때 사용합니다."
   ]
  },
  {
   "cell_type": "code",
   "execution_count": 17,
   "metadata": {},
   "outputs": [],
   "source": [
    "import shutil"
   ]
  },
  {
   "cell_type": "code",
   "execution_count": 51,
   "metadata": {},
   "outputs": [
    {
     "data": {
      "text/plain": [
       "'./src/shutil/MoveToHere/CopyMe.txt'"
      ]
     },
     "execution_count": 51,
     "metadata": {},
     "output_type": "execute_result"
    }
   ],
   "source": [
    "src =  \"./src/shutil/CopyMe.txt\"\n",
    "dest = \"./src/shutil/MoveToHere/\"\n",
    "\n",
    "os.makedirs(dest, exist_ok=True)\n",
    "\n",
    "shutil.copy(src, dest)"
   ]
  },
  {
   "cell_type": "code",
   "execution_count": null,
   "metadata": {},
   "outputs": [
    {
     "data": {
      "text/plain": [
       "'./src/shutil/MoveToHere/MoveMe.txt'"
      ]
     },
     "execution_count": 196,
     "metadata": {},
     "output_type": "execute_result"
    }
   ],
   "source": [
    "src = \"./src/shutil/MoveMe.txt\"\n",
    "dest = \"./src/shutil/MoveToHere/\"\n",
    "\n",
    "os.makedirs(dest, exist_ok=True)\n",
    "\n",
    "shutil.move(src, dest)"
   ]
  },
  {
   "cell_type": "markdown",
   "metadata": {},
   "source": [
    "---\n",
    "###### 문제 해결"
   ]
  },
  {
   "cell_type": "markdown",
   "metadata": {},
   "source": [
    "- 위에서 만든 `report_path_list`, `meeting_path_list`, `presentation_path_list`를 이용하여, 해당하는 파일들을 각각의 `Reports`, `Meetings`, `Presentations` 폴더로 `shutil`을 이용하여 이동시키시기 바랍니다."
   ]
  },
  {
   "cell_type": "code",
   "execution_count": 22,
   "metadata": {},
   "outputs": [
    {
     "data": {
      "text/plain": [
       "['./src\\\\9HD보고서3vQs.pdf',\n",
       " './src\\\\d49보고서F.txt',\n",
       " './src\\\\Dna보고서WlId.pdf',\n",
       " './src\\\\kX4보고서Y.txt',\n",
       " './src\\\\LcuvD보고서hMHGw.pdf',\n",
       " './src\\\\s58j보고서9ps.docx',\n",
       " './src\\\\toF1f보고서oRpG.docx',\n",
       " './src\\\\T보고서ID4Cd.txt',\n",
       " './src\\\\uOq보고서wD.docx',\n",
       " './src\\\\U보고서iuOFA.txt']"
      ]
     },
     "execution_count": 22,
     "metadata": {},
     "output_type": "execute_result"
    }
   ],
   "source": [
    "report_path_list"
   ]
  },
  {
   "cell_type": "code",
   "execution_count": 20,
   "metadata": {},
   "outputs": [],
   "source": [
    "# 아래에 코드를 작성하세요\n",
    "for file in report_path_list :\n",
    "    shutil.copy(file, \"./Reports\")\n",
    "\n",
    "    \n",
    "for file in meeting_path_list :\n",
    "    shutil.copy(file, \"./Meetings\")\n",
    "\n",
    "    \n",
    "for file in presentation_path_list :\n",
    "    shutil.copy(file, \"./Presentations\")"
   ]
  },
  {
   "cell_type": "markdown",
   "metadata": {},
   "source": [
    "---\n",
    "###### 학습자료\n",
    "\n",
    "### `os`와 `shutil`에 대한 추가적인 함수 소개"
   ]
  },
  {
   "cell_type": "markdown",
   "metadata": {},
   "source": [
    "#### `os`라이브러리를 통한 파일의 삭제\n",
    "\n",
    "- `os.remove`로 단일 파일을 삭제할 수 있습니다.\n",
    "- 되돌릴 수 없으니 신중하게 파일을 삭제하여야 합니다."
   ]
  },
  {
   "cell_type": "code",
   "execution_count": 26,
   "metadata": {},
   "outputs": [],
   "source": [
    "target_path = \"./src/os/Deleteme.txt\"\n",
    "\n",
    "# 아래의 코드를 실행하세요\n",
    "\n",
    "os.remove(target_path)"
   ]
  },
  {
   "cell_type": "markdown",
   "metadata": {},
   "source": [
    "#### `os`라이브러리를 통한 비어있는 폴더의 삭제\n",
    "\n",
    "- `os.removedirs` 함수를 이용하여 폴더를 삭제할 수 있습니다.\n",
    "- os.removedirs는 재귀적으로 폴더를 삭제합니다. \n",
    "- 최하위 폴더에서 위로 올라가며 비어있는 폴더만 삭제를 진행하다가, 비어있지 않은 폴더에서 삭제를 멈춥니다.\n",
    "- 단, 폴더가 비어있는 경우에만 삭제할 수 있습니다."
   ]
  },
  {
   "cell_type": "code",
   "execution_count": 37,
   "metadata": {},
   "outputs": [],
   "source": [
    "# 아래의 코드를 실행하세요\n",
    "os.makedirs(\"./src/os/RemoveMe/SubFolder/SubSubFolder/SubSubSubFolder\", exist_ok=True)\n",
    "os.makedirs(\"./src/os/RemoveMe/SubFolder/Sub2Folder\", exist_ok=True)"
   ]
  },
  {
   "cell_type": "code",
   "execution_count": 38,
   "metadata": {},
   "outputs": [
    {
     "ename": "OSError",
     "evalue": "[WinError 145] 디렉터리가 비어 있지 않습니다: './src/os/RemoveMe/SubFolder/SubSubFolder'",
     "output_type": "error",
     "traceback": [
      "\u001b[1;31m---------------------------------------------------------------------------\u001b[0m",
      "\u001b[1;31mOSError\u001b[0m                                   Traceback (most recent call last)",
      "Cell \u001b[1;32mIn[38], line 5\u001b[0m\n\u001b[0;32m      1\u001b[0m target_path \u001b[38;5;241m=\u001b[39m \u001b[38;5;124m\"\u001b[39m\u001b[38;5;124m./src/os/RemoveMe/SubFolder/SubSubFolder\u001b[39m\u001b[38;5;124m\"\u001b[39m\n\u001b[0;32m      3\u001b[0m \u001b[38;5;66;03m# 아래의 코드를 실행하세요\u001b[39;00m\n\u001b[1;32m----> 5\u001b[0m \u001b[43mos\u001b[49m\u001b[38;5;241;43m.\u001b[39;49m\u001b[43mremovedirs\u001b[49m\u001b[43m(\u001b[49m\u001b[43mtarget_path\u001b[49m\u001b[43m)\u001b[49m\n",
      "File \u001b[1;32m<frozen os>:243\u001b[0m, in \u001b[0;36mremovedirs\u001b[1;34m(name)\u001b[0m\n",
      "\u001b[1;31mOSError\u001b[0m: [WinError 145] 디렉터리가 비어 있지 않습니다: './src/os/RemoveMe/SubFolder/SubSubFolder'"
     ]
    }
   ],
   "source": [
    "target_path = \"./src/os/RemoveMe/SubFolder/SubSubFolder\"\n",
    "\n",
    "# 아래의 코드를 실행하세요\n",
    "\n",
    "os.removedirs(target_path)\n",
    "# 디렉토리가 비어있지 않아서 에러발생"
   ]
  },
  {
   "cell_type": "code",
   "execution_count": 39,
   "metadata": {},
   "outputs": [],
   "source": [
    "target_path = \"./src/os/RemoveMe/SubFolder/SubSubFolder/SubSubSubFolder\"\n",
    "\n",
    "# 아래의 코드를 실행하세요\n",
    "\n",
    "os.removedirs(target_path)"
   ]
  },
  {
   "cell_type": "markdown",
   "metadata": {},
   "source": [
    "#### `shutil`을 이용한 폴더의 복사\n",
    "\n",
    "- `copytree` 함수는 폴더를 복사할 때 사용합니다.\n",
    "- 마지막 디렉토리를 생성하고 해당 디렉토리에 파일을 복사합니다.\n",
    "- `copytree` 함수의 첫 번째 인자는 복사할 폴더의 경로이고, 두 번째 인자는 복사될 경로입니다.\n",
    "- 이미 존재하는 폴더에는 복사할 수 없습니다."
   ]
  },
  {
   "cell_type": "code",
   "execution_count": 46,
   "metadata": {},
   "outputs": [
    {
     "data": {
      "text/plain": [
       "'./src/shutil/MoveToHere/CopyMe/'"
      ]
     },
     "execution_count": 46,
     "metadata": {},
     "output_type": "execute_result"
    }
   ],
   "source": [
    "src = \"./src/shutil/CopyMe/\"\n",
    "dest = \"./src/shutil/MoveToHere/CopyMe/\" #CopyMe 디렉토리는 함수가 생성하며, 이미 존재하면 오류가 발생합니다.\n",
    "\n",
    "# 아래의 코드를 실행하세요\n",
    "\n",
    "shutil.copytree(src, dest)"
   ]
  },
  {
   "cell_type": "markdown",
   "metadata": {},
   "source": [
    "### `shutil`을 이용한 비어있지 않은 폴더의 삭제\n",
    "\n",
    "- `rmtree` 함수는 폴더를 제거할 때 사용합니다.\n",
    "- 비어있지 않아도 제거합니다."
   ]
  },
  {
   "cell_type": "code",
   "execution_count": 47,
   "metadata": {},
   "outputs": [],
   "source": [
    "target_path = \"./src/shutil/RemoveMe/\"\n",
    "\n",
    "# 아래의 코드를 실행하세요\n",
    "\n",
    "shutil.rmtree(\"./src/shutil/MoveToHere/CopyMe\")"
   ]
  },
  {
   "cell_type": "markdown",
   "metadata": {},
   "source": [
    "---\n",
    "###### 학습자료"
   ]
  },
  {
   "cell_type": "markdown",
   "metadata": {},
   "source": [
    "\n",
    "#### 현재 작업 디렉토리에 대한 함수\n",
    "\n",
    "\n",
    "- 현재 작업 디렉토리는 getcwd() 함수를 통하여 확인할 수 있습니다. get current working directory의 약자입니다.\n",
    "\n",
    "- 현재 작업 디렉토리를 변경하고 싶은 경우에는 chdir() 함수를 이용합니다. change directory의 약자입니다."
   ]
  },
  {
   "cell_type": "code",
   "execution_count": 48,
   "metadata": {},
   "outputs": [
    {
     "name": "stdout",
     "output_type": "stream",
     "text": [
      "c:\\Users\\User\\Desktop\\강의자료 Python을 활용한 업무자동화와 문제해결\\파이썬을 활용한 업무자동화와 문제해결\\CH02\n"
     ]
    }
   ],
   "source": [
    "# getcwd()를 통하여 현재 작업 디렉토리를 확인할 수 있습니다.\n",
    "# 아래 코드를 실행하세요\n",
    "\n",
    "print(os.getcwd())"
   ]
  },
  {
   "cell_type": "code",
   "execution_count": 49,
   "metadata": {},
   "outputs": [
    {
     "name": "stdout",
     "output_type": "stream",
     "text": [
      "c:\\Users\\User\\Desktop\\강의자료 Python을 활용한 업무자동화와 문제해결\\파이썬을 활용한 업무자동화와 문제해결\\CH02\\Reports\n"
     ]
    }
   ],
   "source": [
    "# chdir()를 통하여 현재 작업 디렉토리를 변경할 수 있습니다.\n",
    "# 아래 코드를 실행하세요\n",
    "\n",
    "os.chdir(\"./Reports\")\n",
    "print(os.getcwd())"
   ]
  },
  {
   "cell_type": "code",
   "execution_count": 50,
   "metadata": {},
   "outputs": [
    {
     "name": "stdout",
     "output_type": "stream",
     "text": [
      "c:\\Users\\User\\Desktop\\강의자료 Python을 활용한 업무자동화와 문제해결\\파이썬을 활용한 업무자동화와 문제해결\\CH02\n"
     ]
    }
   ],
   "source": [
    "# chdir()과 상위 디렉토리를 의미하는 ../을 이용하여 원래 경로로 되돌아 옵니다.\n",
    "# 아래 코드를 실행하세요\n",
    "\n",
    "os.chdir(\"../\")\n",
    "print(os.getcwd())"
   ]
  }
 ],
 "metadata": {
  "kernelspec": {
   "display_name": "Python 3",
   "language": "python",
   "name": "python3"
  },
  "language_info": {
   "codemirror_mode": {
    "name": "ipython",
    "version": 3
   },
   "file_extension": ".py",
   "mimetype": "text/x-python",
   "name": "python",
   "nbconvert_exporter": "python",
   "pygments_lexer": "ipython3",
   "version": "3.11.8"
  }
 },
 "nbformat": 4,
 "nbformat_minor": 2
}
