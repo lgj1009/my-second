{
 "cells": [
  {
   "cell_type": "markdown",
   "metadata": {},
   "source": [
    "###### CHAPTER 02"
   ]
  },
  {
   "cell_type": "markdown",
   "metadata": {},
   "source": [
    "## 파일 및 폴더 자동화 룰루"
   ]
  },
  {
   "cell_type": "markdown",
   "metadata": {},
   "source": [
    "---\n",
    "###### 학습 문제제시"
   ]
  },
  {
   "cell_type": "markdown",
   "metadata": {},
   "source": [
    "### 파일 및 폴더 자동 분류하기"
   ]
  },
  {
   "cell_type": "markdown",
   "metadata": {},
   "source": [
    "- 파이썬을 활용하여 정리되지 않은 파일과 폴더를 자동으로 분류하여 주는 코드를 작성하여 봅시다.\n",
    "- `./src` 폴더 바로 아래에 있는 파일을 아래 조건에 따라서 분류하시기 바랍니다."
   ]
  },
  {
   "cell_type": "markdown",
   "metadata": {},
   "source": [
    "- 조건\n",
    "\n",
    "    - `보고서`란 단어가 포함된 파일은 확장자가 무엇이든 `./Reports` 폴더로 이동되어야 합니다.\n",
    "    - `회의록`이란 단어가 포함된 파일은 확장자가 무엇이든 `./Meetings` 폴더로 이동되어야 합니다.\n",
    "    - `발표자료`란 단어가 포함된 파일은 확장자가 무엇이든 `./Presentations` 폴더로 이동되어야 합니다."
   ]
  },
  {
   "cell_type": "markdown",
   "metadata": {},
   "source": [
    "- 필요한 사항\n",
    "\n",
    "    - 이동시킬 파일의 위치와 이동될 파일의 위치를 표현하는 방법을 알아야 합니다.\n",
    "    - 특정 폴더(`./src`)의 모든 파일을 조회하는 방법을 알아야 합니다.\n",
    "    - `Reports`, `Meetings`, `Presentations`폴더를 만드는 방법을 알아야 합니다.\n",
    "    - 이동시킬 파일에 특정 단어가 포함되어 있는지 여부를 알아야 합니다.\n",
    "    - 파일을 이동시키는 기능을 알아야 합니다."
   ]
  },
  {
   "cell_type": "markdown",
   "metadata": {},
   "source": [
    "---\n",
    "###### 개념설명"
   ]
  },
  {
   "cell_type": "markdown",
   "metadata": {},
   "source": [
    "### 경로에 대한 설명"
   ]
  },
  {
   "cell_type": "markdown",
   "metadata": {},
   "source": [
    "- 위 문제에서 제시한 폴더를 표현하는 방법에 대해서 학습합니다.\n",
    "- 경로를 통하여 파일이나 폴더를 선택하거나, 파일 및 폴더의 위치를 상대경로로 나타내는 방법에 대해서 학습합니다."
   ]
  },
  {
   "cell_type": "markdown",
   "metadata": {},
   "source": [
    "### 경로(Path)\n",
    "\n",
    "- 경로는 파일 시스템에 대하여 해당 파일 및 디렉토리의 고유한 위치를 의미합니다.\n",
    "\n",
    "- 이러한 경로는 특정 위치에 대한 상대적인 경로(상대경로)와 최상위 위치에 대한 절대적인 경로로 구분됩니다(절대경로).\n",
    "\n",
    "- 상대경로는 현재 작업 디렉토리를 기준으로 표현되며, 절대경로는 최상위 디렉토리를 기준으로 표현됩니다."
   ]
  },
  {
   "cell_type": "markdown",
   "metadata": {},
   "source": [
    "### 절대경로와 상대경로\n",
    "\n",
    "- 절대경로는 최상위 디렉토리로부터 경유한 모든 경로를 기입하는 방식을 의미합니다.\n",
    "- 흔히 보는 C:\\Users\\username\\Desktop\\filename.txt와 같은 형태가 절대경로입니다.\n",
    "- 상대경로는 현재 작업 디렉토리를 기준으로 경유한 경로를 기입하는 방식을 의미합니다.\n",
    "- 흔히 보는 .\\filename.txt와 같은 형태가 상대경로입니다.\n",
    "\n",
    "- 상대경로에서 ./는 현재 작업 디렉토리를 의미합니다.\n",
    "- 상대경로에서 ../는 현재 작업 디렉토리의 상위 디렉토리를 의미합니다.\n",
    "- 상대경로에서 ../../는 현재 작업 디렉토리의 상위 디렉토리의 상위 디렉토리를 의미합니다.\n",
    "- 절대경로의 경우, 아래의 사유들로 사용하기 불편한 상황이 있음\n",
    "    - 타인에게 배포를 하는 상황 : username이 달라서 오류발생함\n",
    "    - Windows이외의 운영체제(Linux, Unix등)를 사용할 경우 : 최상위 주소가 C:\\가 아니기 때문에 오류발생함"
   ]
  },
  {
   "cell_type": "markdown",
   "metadata": {},
   "source": [
    "---\n",
    "###### 읽어보기"
   ]
  },
  {
   "cell_type": "markdown",
   "metadata": {},
   "source": [
    "### 경로의 표기\n",
    "\n",
    "- 윈도우 운영체제에서는 백슬래시(\\\\)를 사용하여 경로를 표기합니다. \\ \\ \\ \\ \\\n",
    "\n",
    "- 반면, 리눅스 운영체제에서는 슬래시(/)를 사용하여 경로를 표기합니다. 백슬래시\\ 안쓴다! / / / / /\n",
    "\n",
    "- 다만 백슬래시의 경우, 파이썬에서는 이스케이프 문자로 인식되기 때문에 백슬래시를 두 번 사용해야 합니다. \\\\ \\\\ \\\\ \\\\ \\\\\n",
    "\n",
    "- 또한 raw string을 사용하여 백슬래시가 포함된 경로를 사용할 수 있습니다."
   ]
  },
  {
   "cell_type": "markdown",
   "metadata": {},
   "source": [
    "---\n",
    "###### 개념설명\n",
    "\n",
    "#### 경로에 대해 os.path 라이브러리 사용하기"
   ]
  },
  {
   "cell_type": "markdown",
   "metadata": {},
   "source": [
    "- os.path 계열의 함수를 이용하여 운영체제에 상관없이 자동적으로 경로를 다룰 수 있습니다.\n",
    "- os.path는 os 라이브러리에 포함되어 있습니다.\n",
    "- os 라이브러리는 표준 라이브러리이므로 별도의 설치가 필요없이 바로 불러오기만 하면 됩니다."
   ]
  },
  {
   "cell_type": "code",
   "execution_count": null,
   "metadata": {},
   "outputs": [],
   "source": [
    "# 라이브러리를 불러옵니다.\n",
    "# %pip install os로 설치할 필요가 없슴다!  \n",
    "\n",
    "import os"
   ]
  },
  {
   "cell_type": "code",
   "execution_count": null,
   "metadata": {},
   "outputs": [],
   "source": [
    "# 아래와 같이 os.path.join() 함수를 통하여 경로를 합칠 수 있습니다.\n",
    "\n",
    "folder = \"abc\"\n",
    "path = \"src\"\n",
    "filename = \"filename.txt\"\n",
    "\n",
    "result = os.path.join(folder, path, filename)\n",
    "print(result)"
   ]
  },
  {
   "cell_type": "markdown",
   "metadata": {},
   "source": [
    "###### 개념설명\n",
    "\n",
    "#### 문자열 포매팅 (★중요)\n",
    "- f-string을 이용하여 문자열과 변수의 값을 함께 나타낼 수 있습니다."
   ]
  },
  {
   "cell_type": "code",
   "execution_count": null,
   "metadata": {},
   "outputs": [],
   "source": [
    "# f-string을 이용하여 문자열과 변수의 값을 함께 나타낼 수 있습니다.\n",
    "# 따옴표로 감싼 문자열 바깥 부분에 f를 작성하여 나타냅니다.\n",
    "# 중괄호 안에 변수의 이름을 작성합니다.\n",
    "\n",
    "var = \"변수\"\n",
    "print(f\"이렇게 {var}와 일반 문자열을 함께 작성할 수 있습니다.\")\n",
    "\n",
    "price = 1000\n",
    "print(f\"이렇게 {price * 1.1}처럼 계산식 혹은 파이썬 코드를 함께 작성할 수도 있습니다.\")"
   ]
  },
  {
   "cell_type": "markdown",
   "metadata": {},
   "source": [
    "###### 연습문제\n",
    "\n",
    "- `os.path.join의 결과물`을 `f-string`을 사용하여 동일하게 만들어내시기 바랍니다."
   ]
  },
  {
   "cell_type": "code",
   "execution_count": null,
   "metadata": {},
   "outputs": [],
   "source": [
    "path = \"src\"\n",
    "filename = \"filename.txt\"\n",
    "\n",
    "# 아래에 코드를 작성하세요\n",
    "print(f\"{folder}/{path}/{filename}\")"
   ]
  },
  {
   "cell_type": "markdown",
   "metadata": {},
   "source": [
    "---"
   ]
  },
  {
   "cell_type": "markdown",
   "metadata": {},
   "source": [
    "###### 개념설명\n",
    "\n",
    "#### 경로를 분리하기\n",
    "- `os.path.join`과 `os.path.splitext`를 이용하여 경로를 분리할 수도 있습니다."
   ]
  },
  {
   "cell_type": "code",
   "execution_count": null,
   "metadata": {},
   "outputs": [],
   "source": [
    "# (주의) macOS 또는 linux 배포판은 아래의 file_path로 교체하여 사용하시기 바랍니다.\n",
    "\n",
    "file_path = r\"/Users/user/Desktop/file.txt\""
   ]
  },
  {
   "cell_type": "code",
   "execution_count": null,
   "metadata": {},
   "outputs": [],
   "source": [
    "# os.path.split()과 os.path.splitext()를 통하여 파일 경로와 이름, 이름과 확장자를 분리할 수 있습니다\n",
    "# ext는 extension의 줄임말 : 확장자!!\n",
    "# 그냥 분리하는 결과에 따라 차이만 있는 거군.\n",
    "\n",
    "file_path = r\"C:/Users/user/Desktop/file.png\" \n",
    "# r을 빼면, 백슬래시 쓰면 에러띰!! \n",
    "# \\n : 줄바꾸라는 뜻     \n",
    "# \\u : 유니코드로 바꾸라는 뜻\n",
    "# r은 rawstring이라는 뜻이고, 특수기능 (\\n이나 \\u)로 해석하지 말고, 문자 그대로 받아들이라는 명령 \n",
    "\n",
    "# 아래 코드를 실행하세요\n",
    "\n",
    "print(os.path.split(file_path))\n",
    "print(type(os.path.split(file_path)))\n",
    "\n",
    "print(os.path.splitext(file_path))\n",
    "print(type(os.path.splitext(file_path)))"
   ]
  },
  {
   "cell_type": "markdown",
   "metadata": {},
   "source": [
    "---\n",
    "\n",
    "###### 파이썬 기초 개념"
   ]
  },
  {
   "cell_type": "markdown",
   "metadata": {},
   "source": [
    "### 파이썬에서의 인덱싱"
   ]
  },
  {
   "cell_type": "markdown",
   "metadata": {},
   "source": [
    "- 인덱싱이란 `list`, `tuple`, `str` 등의 시퀀스(sequence) 요소에 대해서 특정 요소에 접근하는 방법을 의미합니다.\n",
    "- 인덱스는 이러한 인덱싱에서 사용되는 시퀀스 요소 내에서의 위치를 의미합니다.\n",
    "- 인덱스는 `0`부터 시작하며, 뒤에서부터 `-1`로도 사용할 수 있습니다."
   ]
  },
  {
   "cell_type": "code",
   "execution_count": null,
   "metadata": {},
   "outputs": [],
   "source": [
    "#      [0, 1, 2, 3, 4]\n",
    "nums = [1, 2, 3, 4, 5]\n",
    "\n",
    "# 인덱스 0인 정수 1에 접근하여 출력\n",
    "print(nums[0])"
   ]
  },
  {
   "cell_type": "markdown",
   "metadata": {},
   "source": [
    "---"
   ]
  },
  {
   "cell_type": "markdown",
   "metadata": {},
   "source": [
    "###### 연습문제\n",
    "\n",
    "- 위 os 함수들을 이용하여, 아래 file_path의 파일 이름과 확장자를 각각 변수 `filename과` `extension에` 분리하여 저장하고, 출력해보세요. \n",
    "- `filename` 변수에는 `file` 이라는 값이, `extension` 변수에는 `.txt`가 저장되어야 합니다.\n",
    "- 입력할 수 있는 인자값과 반환값의 자료형에 주의하시기 바랍니다."
   ]
  },
  {
   "cell_type": "code",
   "execution_count": null,
   "metadata": {},
   "outputs": [],
   "source": [
    "file_path = r\"C:\\Users\\user\\Desktop\\file.txt\"\n",
    "\n",
    "# 아래에 코드를 작성하세요\n",
    "filename = os.path.split(file_path)[0]\n",
    "extension = os.path.splitext(file_path)[1]\n",
    "\n",
    "print(os.path.split(file_path))\n",
    "print(os.path.splitext(file_path))\n",
    "\n",
    "print(\"\")\n",
    "print(\"filename =\",filename)\n",
    "print(type(filename))\n",
    "print(\"\")\n",
    "print(\"extension =\", extension)\n",
    "print(type(extension))"
   ]
  },
  {
   "cell_type": "code",
   "execution_count": null,
   "metadata": {},
   "outputs": [],
   "source": [
    "# 오호 이런 형식도 가능함. 오직 튜플에서만 가능한 unpacking의 기능!\n",
    "# 근데 이련 형식은 \"클린코드\"가 아니다 (눈으로 딱 보고 직관적으로 이해가능한 코드형식)\n",
    "\n",
    "filename, extension = os.path.splitext((os.path.split(file_path)[1]))\n",
    "print(filename, extension)\n",
    "\n",
    "\n",
    "#아래의 형태가, \"클린코드\"\n",
    "A = os.path.split(file_path)[1]\n",
    "filename, extension = os.path.splitext(A)\n",
    "print(filename, extension)"
   ]
  },
  {
   "cell_type": "markdown",
   "metadata": {},
   "source": [
    "---"
   ]
  },
  {
   "cell_type": "markdown",
   "metadata": {},
   "source": [
    "###### 개념설명\n",
    "\n",
    "#### 파일 및 폴더를 다루는 os 라이브러리 사용하기\n",
    "\n",
    "- os 라이브러리는 운영체제를 통하여 파일 및 폴더를 관리하는데 도움을 주는 다양한 함수를 제공합니다."
   ]
  },
  {
   "cell_type": "markdown",
   "metadata": {},
   "source": [
    "- 먼저 문제에서 이동하여야 하는 폴더인 `Reports`, `Meetings`, `Presentations`를 폴더를 현재 작업 디렉토리에 생성하여 봅시다. "
   ]
  },
  {
   "cell_type": "markdown",
   "metadata": {},
   "source": [
    "#### os 라이브러리를 통하여 폴더 생성하기\n",
    "\n",
    "- mkdir() 함수를 통하여 폴더를 생성할 수 있습니다. 인자에는 생성할 폴더의 경로를 입력합니다.\n",
    "- make directory라는 뜻\n",
    "- 단, `이미 동일한 이름의 폴더가 존재하는 경우에는 오류`가 발생합니다."
   ]
  },
  {
   "cell_type": "code",
   "execution_count": null,
   "metadata": {},
   "outputs": [],
   "source": [
    "# 아래 코드는 현재 디렉토리에 대하여 Reports라는 이름의 폴더를 생성합니다.\n",
    "\n",
    "# 아래 코드를 실행하세요\n",
    "\n",
    "os.mkdir(\"./Reports\")"
   ]
  },
  {
   "cell_type": "code",
   "execution_count": null,
   "metadata": {},
   "outputs": [],
   "source": [
    "import shutil"
   ]
  },
  {
   "cell_type": "code",
   "execution_count": null,
   "metadata": {},
   "outputs": [],
   "source": [
    "shutil.rmtree(\"./Reports\")\n",
    "os.mkdir(\"./Reports\")"
   ]
  },
  {
   "cell_type": "markdown",
   "metadata": {},
   "source": [
    "###### 연습문제\n",
    "\n",
    "- 제시된 `path`변수에 저장되어 있는 경로를 통하여 폴더를 생성하시기 바랍니다."
   ]
  },
  {
   "cell_type": "code",
   "execution_count": null,
   "metadata": {},
   "outputs": [],
   "source": [
    "# 아래에 코드를 작성하세요\n",
    "# os함수의 경우, 폴더 or 파일의 생성, 삭제를 하면, 되돌리기가 불가능하다\n",
    "# 삭제하면 복구불가능. 생성해서 덮어쓰기되면, 기존파일 싹 사라짐. 그래서 알람발생\n",
    "path = \"./Meetings\"\n",
    "os.mkdir(path)"
   ]
  },
  {
   "cell_type": "markdown",
   "metadata": {},
   "source": [
    "---\n",
    "###### 개념설명\n",
    "#### 이미 있어도 오류가 나지 않는 makedirs 함수 사용하기\n",
    "\n",
    "- makedirs의 `exist_ok` 인자를 `True` 설정하면 폴더가 이미 존재하는 경우에도 오류가 발생하지 않습니다.\n",
    "- makedirs 함수를 이용하면 중간 경로가 없는 경우에도 폴더를 생성할 수 있습니다."
   ]
  },
  {
   "cell_type": "code",
   "execution_count": null,
   "metadata": {},
   "outputs": [],
   "source": [
    "# exist_ok=True 인자를 통하여 이미 존재하는 경우에도 오류가 발생하지 않게 할 수 있습니다.\n",
    "\n",
    "# 아래에 코드를 작성하세요\n",
    "\n",
    "os.makedirs(\"./Presentations\", exist_ok=True)\n",
    "# 이미 동일한 이름의 파일이 있는 경우, 덮어쓰는 게 아니고, 파일생성명령이 없던일처럼 취소됨!"
   ]
  },
  {
   "cell_type": "markdown",
   "metadata": {},
   "source": [
    "---\n",
    "###### 개념설명\n",
    "\n",
    "### 특정 경로의 파일 및 폴더 목록 조회하기\n",
    "\n",
    "- os.listdir() 함수를 이용하여 디렉토리의 파일 및 폴더를 조회할 수 있습니다.\n",
    "- 두 반환값의 차이를 확인하여 보시기 바랍니다."
   ]
  },
  {
   "cell_type": "code",
   "execution_count": null,
   "metadata": {},
   "outputs": [],
   "source": [
    "# 인자가 없으면 현재 작업 디렉토리의 파일 및 폴더의 목록을 리스트로 반환합니다.\n",
    "\n",
    "# 아래의 코드를 실행하세요\n",
    "\n",
    "print(type(os.listdir()))\n",
    "os.listdir()"
   ]
  },
  {
   "cell_type": "code",
   "execution_count": null,
   "metadata": {},
   "outputs": [],
   "source": [
    "# 인자가 존재하면, 해당 디렉토리의 파일 및 폴더의 목록을 리스트로 반환합니다.\n",
    "\n",
    "# 아래의 코드를 실행하세요\n",
    "\n",
    "target_path = \"./src/os/\"\n",
    "\n",
    "print(type(os.listdir(target_path)))\n",
    "os.listdir(target_path)"
   ]
  },
  {
   "cell_type": "markdown",
   "metadata": {},
   "source": [
    "###### 참고사항"
   ]
  },
  {
   "cell_type": "markdown",
   "metadata": {},
   "source": [
    "#### 파이썬에서의 반복문"
   ]
  },
  {
   "cell_type": "code",
   "execution_count": null,
   "metadata": {},
   "outputs": [],
   "source": [
    "print(os.listdir())\n",
    "print(type(os.listdir()))"
   ]
  },
  {
   "cell_type": "code",
   "execution_count": null,
   "metadata": {},
   "outputs": [],
   "source": [
    "for file in os.listdir(): #os.listdir() 부분에 리스트와 같은 반복 가능한 요소가 들어갑니다.\n",
    "    print(type(file), file) # 위에서 지정한 file에는 순서대로 내부 요소가 하나씩 할당되며, 변경된 변수의 값으로 블록의 코드가 반복되어 실행됩니다."
   ]
  },
  {
   "cell_type": "markdown",
   "metadata": {},
   "source": [
    "---\n",
    "###### 해결하기"
   ]
  },
  {
   "cell_type": "markdown",
   "metadata": {},
   "source": [
    "- 위 함수를 사용하여 `현재 작업 디렉토리`와 `./src/os/`의 모든 요소에 대해서 각각 다음을 수행하시기 바랍니다.\n",
    "\n",
    "- `os.listdir`에서 얻은 `list`의 각 요소에 대해서 `os.path.exists` 함수를 사용하여 각 파일 또는 폴더의 경로의 존재 여부를 출력하시기 바랍니다.\n",
    "\n",
    "    - `os.path.exists`는 인자로 제공된 `경로`의 존재 여부를 확인하여, `True` 또는 `False` 값으로 반환합니다.\n",
    "\n",
    "-  만약 모든 요소에 대하여 `os.path.exists` 함수의 결과가 `False라면` 왜 이러한 현상이 발생하는지 그 원인을 찾아보시기 바랍니다."
   ]
  },
  {
   "cell_type": "code",
   "execution_count": null,
   "metadata": {},
   "outputs": [],
   "source": [
    "# 아래에 코드를 작성하세요\n",
    "for file in os.listdir() :\n",
    "    print(file, os.path.exists(file))\n",
    "\n",
    "print(\"\")\n",
    "\n",
    "for file in os.listdir(\"./src/os\") :\n",
    "    print(file, os.path.exists(f\"./src/os/{file}\"))\n",
    "\n",
    "print(\"\")\n",
    "\n",
    "'''\n",
    "print(os.listdir(\"./\"))\n",
    "print(type(os.listdir(\"./\")))\n",
    "B = os.listdir(\"./\")\n",
    "\n",
    "\n",
    "for file in B : #os.listdir() 부분에 리스트와 같은 반복 가능한 요소가 들어갑니다.\n",
    "    print(os.path.exists(f\"./{file}\"))\n",
    "'''"
   ]
  },
  {
   "cell_type": "markdown",
   "metadata": {},
   "source": [
    "---\n",
    "###### 개념설명"
   ]
  },
  {
   "cell_type": "markdown",
   "metadata": {},
   "source": [
    "### 특정 패턴에 맞는 경로만을 리스트로 반환 받기"
   ]
  },
  {
   "cell_type": "markdown",
   "metadata": {},
   "source": [
    "- os.listdir 함수는 경로의 파일 또는 폴더의 이름과 확장자만을 리스트로 반환했습니다.\n",
    "- 특정 패턴에 맞는 경로를 리스트로 반환하는 기능에 대해서 학습하여 봅시다."
   ]
  },
  {
   "cell_type": "markdown",
   "metadata": {},
   "source": [
    "#### glob 라이브러리에 대해서"
   ]
  },
  {
   "cell_type": "markdown",
   "metadata": {},
   "source": [
    "- glob은 내장 라이브러리로 현재 경로 혹은 하위 경로에 대해서 특정 이름 패턴에 맞는 파일 및 폴더를 탐색할 때 사용하는 라이브러리 입니다."
   ]
  },
  {
   "cell_type": "code",
   "execution_count": null,
   "metadata": {},
   "outputs": [],
   "source": [
    "import glob"
   ]
  },
  {
   "cell_type": "markdown",
   "metadata": {},
   "source": [
    "#### glob 패턴에 대해서\n",
    "\n",
    "- `glob.glob` 함수의 인자로 아래와 같은 패턴을 지정할 수 있습니다.\n"
   ]
  },
  {
   "cell_type": "markdown",
   "metadata": {},
   "source": [
    "- glob에서 `*`는 임의의 문자열을 의미합니다.\n",
    "- 따라서 *.*은 임의의 문자열.확장자 형태를 의미합니다.\n"
   ]
  },
  {
   "cell_type": "code",
   "execution_count": null,
   "metadata": {},
   "outputs": [],
   "source": [
    "# 해당 경로에 대한 모든 파일 및 폴더\n",
    "\n",
    "# 아래 코드를 실행하세요\n",
    "\n",
    "glob.glob(\"*\") #현재디렉토리의, 모든파일, 모든폴더\n",
    "glob.glob(\"*.*\") #현재디렉토리의, 모든파일만\n",
    "glob.glob(\"*/\")  #현재디렉토리의, 모든폴더만\n",
    "glob.glob(\"./src/os/*\")  #현재디렉토리에서, 더 하위의 디렉토리의 모든폴더, 모든폴더\n"
   ]
  },
  {
   "cell_type": "code",
   "execution_count": null,
   "metadata": {},
   "outputs": [],
   "source": [
    "glob.glob(\"./src/os/*\")"
   ]
  },
  {
   "cell_type": "code",
   "execution_count": null,
   "metadata": {},
   "outputs": [],
   "source": [
    "# 해당 경로에 대한 모든 파일\n",
    "\n",
    "# 아래 코드를 실행하세요\n",
    "    \n",
    "glob.glob(\"*.*\")"
   ]
  },
  {
   "cell_type": "code",
   "execution_count": null,
   "metadata": {},
   "outputs": [],
   "source": [
    "# 해당 경로에 대한 모든 폴더\n",
    "\n",
    "# 아래 코드를 실행하세요\n",
    "\n",
    "glob.glob(\"*/\")"
   ]
  },
  {
   "cell_type": "markdown",
   "metadata": {},
   "source": [
    "- glob에서 `?`는 임의의 한 문자를 의미합니다.\n",
    "- 따라서 ?.txt는 임의의 한 문자.txt 형태를 의미합니다."
   ]
  },
  {
   "cell_type": "code",
   "execution_count": null,
   "metadata": {},
   "outputs": [],
   "source": [
    "# 아래 코드를 실행하세요\n",
    "\n",
    "glob.glob(\"./src/glob/????.txt\") # 파일이름 문자 4개짜리만 골라줌"
   ]
  },
  {
   "cell_type": "code",
   "execution_count": null,
   "metadata": {},
   "outputs": [],
   "source": [
    "glob.glob(\"./src/glob/*.txt\") # .txt파일만 골라줌"
   ]
  },
  {
   "cell_type": "markdown",
   "metadata": {},
   "source": [
    "- glob에서 `**`은 언제나 `recursive=-True`와 함께 사용됩니다.\n",
    "- **는 모든 경로를 의미합니다.\n",
    "- 이때, 작성한 경로를 포함한 모든 하위 경로를 탐색합니다."
   ]
  },
  {
   "cell_type": "code",
   "execution_count": null,
   "metadata": {},
   "outputs": [],
   "source": [
    "# recursive 조건과 ** 사용하기\n",
    "\n",
    "# 아래 코드를 수정하세요\n",
    "\n",
    "print(glob.glob(\"./**/*.*\", recursive=False))\n",
    "print(glob.glob(\"./**/*.*\", recursive=True))"
   ]
  },
  {
   "cell_type": "code",
   "execution_count": null,
   "metadata": {},
   "outputs": [],
   "source": [
    "print(glob.glob(\"./Test/**/*\", recursive=False))\n",
    "print(glob.glob(\"./Test/**/*\", recursive=True))"
   ]
  },
  {
   "cell_type": "markdown",
   "metadata": {},
   "source": [
    "- glob에서 `[]`는 대괄호 안에 있는 문자 중 하나를 의미합니다.\n",
    "- 따라서 [abc].txt는 a.txt, b.txt, c.txt 형태를 의미합니다.\n",
    "- [0-9].txt는 연속된 요소를 표현하며, 0.txt, 1.txt, 2.txt ... 9.txt 형태를 의미합니다."
   ]
  },
  {
   "cell_type": "code",
   "execution_count": null,
   "metadata": {},
   "outputs": [],
   "source": [
    "# 특정 폴더(./src/glob)에서 숫자로 시작하는 특정 확장자(.txt) 파일 찾기\n",
    "\n",
    "# 아래의 코드를 실행하세요\n",
    "\n",
    "glob.glob(\"./src/glob/[0-9]*.txt\")"
   ]
  },
  {
   "cell_type": "code",
   "execution_count": null,
   "metadata": {},
   "outputs": [],
   "source": [
    "# 원하는 확장자만 골라서 파일 찾기\n",
    "glob.glob(\"./src/glob/*[.txt, .doc]\")"
   ]
  },
  {
   "cell_type": "code",
   "execution_count": null,
   "metadata": {},
   "outputs": [],
   "source": [
    "# ds로 시작하는 파일 찾기\n",
    "glob.glob(\"./src/glob/ds*.*\")"
   ]
  },
  {
   "cell_type": "markdown",
   "metadata": {},
   "source": [
    "---\n",
    "###### 연습문제\n",
    "\n",
    "- 다음의 문제를 해결하시기 바랍니다."
   ]
  },
  {
   "cell_type": "code",
   "execution_count": null,
   "metadata": {},
   "outputs": [],
   "source": [
    "# 특정 폴더(./src/glob)에서 알파벳으로 시작하는 모든 확장자의 파일 찾기\n",
    "\n",
    "# 아래에 코드를 작성하세요\n",
    "glob.glob(\"./src/glob/[A-Za-z]*.*\")\n"
   ]
  },
  {
   "cell_type": "code",
   "execution_count": null,
   "metadata": {},
   "outputs": [],
   "source": [
    "# 특정 폴더(./src/glob)에서 prefix로 시작하는 모든 확장자의 파일 찾기\n",
    "\n",
    "# 아래에 코드를 작성하세요\n",
    "glob.glob(\"./src/glob/prefix*.*\")\n"
   ]
  },
  {
   "cell_type": "code",
   "execution_count": null,
   "metadata": {},
   "outputs": [],
   "source": [
    "# 특정 폴더(./src/glob)에서 어떠한 한글자 다음 suffix로 끝나는 모든 확장자의 파일 찾기\n",
    "\n",
    "# 아래에 코드를 작성하세요\n",
    "glob.glob(\"./src/glob/?suffix.*\")\n"
   ]
  },
  {
   "cell_type": "code",
   "execution_count": null,
   "metadata": {},
   "outputs": [],
   "source": [
    "# 현재 작업 디렉토리(./)의 모든 경로(작성한 현재 폴더와 모든 하위 폴더)에서 suffix로 끝나는 모든 확장자의 파일 찾기\n",
    "\n",
    "# 아래에 코드를 작성하세요\n",
    "glob.glob(\"./**/*suffix.*\", recursive=True)\n"
   ]
  },
  {
   "cell_type": "markdown",
   "metadata": {},
   "source": [
    "---\n",
    "###### 해결하기\n",
    "\n"
   ]
  },
  {
   "cell_type": "markdown",
   "metadata": {},
   "source": [
    "- `./src`에 대해서 `보고서`, `회의록`, `발표자료`가 포함된 파일의 경로를 각각 `report_path_list`, `meeting_path_list`, `presentation_path_list`에 리스트로 반환 받으시기를 바랍니다."
   ]
  },
  {
   "cell_type": "code",
   "execution_count": null,
   "metadata": {},
   "outputs": [],
   "source": [
    "# 아래에 코드를 작성하세요\n",
    "report_path_list = glob.glob(\"./src/*보고서*.*\")\n",
    "meeting_path_list = glob.glob(\"./src/*회의록*.*\")\n",
    "presentation_path_list = glob.glob(\"./src/*발표자료*.*\")\n",
    "\n",
    "glob.glob(\"./src/*보고서*.*\")"
   ]
  },
  {
   "cell_type": "markdown",
   "metadata": {},
   "source": [
    "---\n",
    "###### 개념설명\n",
    "\n",
    "### 이동, 복사, 삭제 기능으로 파일의 경로를 조작하기"
   ]
  },
  {
   "cell_type": "markdown",
   "metadata": {},
   "source": [
    "- 위에서 우리는 경로를 조회하고 불러오는 방법에 대해서 학습하였습니다.\n",
    "- 이제 이러한 경로를 가지고 실제 파일의 위치를 변경하는 방법에 대해서 학습하여 보도록 합시다."
   ]
  },
  {
   "cell_type": "markdown",
   "metadata": {},
   "source": [
    "- 파일 및 폴더를 이동, 복사, 삭제하기 위해서는 `os`, `shutil` 2가지의 라이브러리를 사용할 수 있습니다."
   ]
  },
  {
   "cell_type": "markdown",
   "metadata": {},
   "source": [
    "- 각 라이브러리는 유사한 기능을 가지고 있으나, 세세한 부분에서 다소 차이가 있으니, 이 차이를 유의하시기 바랍니다."
   ]
  },
  {
   "cell_type": "markdown",
   "metadata": {},
   "source": [
    "---\n",
    "###### 개념설명"
   ]
  },
  {
   "cell_type": "markdown",
   "metadata": {},
   "source": [
    "### 파일 이동하기 (`os.rename`, `shutil.move`)"
   ]
  },
  {
   "cell_type": "markdown",
   "metadata": {},
   "source": [
    "- `os.rename`과 `shutil.move`를 통하여 파일을 이동할 수 있습니다.\n",
    "- `os`와 `shutil` 모두 표준 라이브러리로 별도의 설치는 필요하지 않습니다."
   ]
  },
  {
   "cell_type": "markdown",
   "metadata": {},
   "source": [
    "#### `os.rename`을 통하여 파일 이동하기"
   ]
  },
  {
   "cell_type": "markdown",
   "metadata": {},
   "source": [
    "- 파일을 이동할 때는 os.`rename` 함수를 이용합니다. >> 함수명이랑 기능이랑 좀 다르네!!\n",
    "- os.`rename` 함수는 파일의 이름을 변경할 때도 사용할 수 있습니다.\n",
    "- rename 함수의 첫 번째 인자는 이동할 파일의 경로이고, 두 번째 인자는 이동할 경로입니다.\n",
    "- rename이지만 path에 대하여 rename을 수행한다고 생각하면 됩니다."
   ]
  },
  {
   "cell_type": "code",
   "execution_count": null,
   "metadata": {},
   "outputs": [],
   "source": [
    "import os"
   ]
  },
  {
   "cell_type": "code",
   "execution_count": null,
   "metadata": {},
   "outputs": [],
   "source": [
    "src =  \"./src/os/RenameMe.txt\"\n",
    "dest = \"./src/os/RenamedMe.txt\"\n",
    "\n",
    "os.makedirs(\"./src/os/MoveToHere/\", exist_ok=True)\n",
    "\n",
    "# 아래 코드를 실행하세요\n",
    "\n",
    "os.rename(src, dest) #src의 파일이, dest의파일로 변경된다"
   ]
  },
  {
   "cell_type": "code",
   "execution_count": null,
   "metadata": {},
   "outputs": [],
   "source": [
    "src = \"./src/os/MoveMe.txt\"\n",
    "dest = \"./src/os/MoveToHere/MoveMe.txt\"\n",
    "\n",
    "os.makedirs(\"./src/os/MoveToHere/\", exist_ok=True)\n",
    "\n",
    "# 아래 코드를 실행하세요\n",
    "\n",
    "os.rename(src, dest)"
   ]
  },
  {
   "cell_type": "markdown",
   "metadata": {},
   "source": [
    "---\n",
    "###### 연습 문제\n",
    "\n",
    "- ./src/os/MoveMyFiles 폴더에 있는 모든 파일을 `os.rename` 메서드로 ./src/os/MoveToHere 폴더로 모두 이동시키는 코드를 작성하시오."
   ]
  },
  {
   "cell_type": "code",
   "execution_count": null,
   "metadata": {},
   "outputs": [],
   "source": [
    "src_path =  \"./src/os/MoveMyFiles/\"\n",
    "dest_path = \"./src/os/MoveToHere/\"\n",
    "\n",
    "os.makedirs(dest_path, exist_ok=True)\n",
    "\n",
    "# 아래에 코드를 작성하세요\n",
    "\n",
    "# os.listdir(src_path)\n",
    "\n",
    "for file in os.listdir(src_path) :\n",
    "    # os.rename(f\"./src/os/MoveMyFiles/{file}\", f\"./src/os/MoveToHere/{file}\")\n",
    "    src  = os.path.join(src_path, file)\n",
    "    dest = os.path.join(dest_path, file)\n",
    "    print(src)\n",
    "    print(dest)\n",
    "    print(\"\")\n",
    "    os.rename(src, dest)"
   ]
  },
  {
   "cell_type": "markdown",
   "metadata": {},
   "source": [
    "---\n",
    "###### 개념설명"
   ]
  },
  {
   "cell_type": "markdown",
   "metadata": {},
   "source": [
    "#### `shutil`을 이용한 파일의 복사 및 이동\n",
    "\n",
    "- shutil.`copy` 함수는 파일을 복사할 때 사용합니다.\n",
    "- `copy`와 `move` 함수의 첫 번째 인자는 복사할 파일의 경로이고, 두 번째 인자는 복사될 경로입니다.\n",
    "- shutil.`move`함수는 파일이나 폴더를 이동할 때 사용합니다."
   ]
  },
  {
   "cell_type": "code",
   "execution_count": null,
   "metadata": {},
   "outputs": [],
   "source": [
    "import shutil"
   ]
  },
  {
   "cell_type": "code",
   "execution_count": null,
   "metadata": {},
   "outputs": [],
   "source": [
    "src =  \"./src/shutil/CopyMe.txt\"\n",
    "dest = \"./src/shutil/MoveToHere/\"\n",
    "\n",
    "os.makedirs(dest, exist_ok=True)\n",
    "\n",
    "shutil.copy(src, dest)"
   ]
  },
  {
   "cell_type": "code",
   "execution_count": null,
   "metadata": {},
   "outputs": [],
   "source": [
    "src = \"./src/shutil/MoveMe.txt\"\n",
    "dest = \"./src/shutil/MoveToHere/\"\n",
    "\n",
    "os.makedirs(dest, exist_ok=True)\n",
    "\n",
    "shutil.move(src, dest)"
   ]
  },
  {
   "cell_type": "markdown",
   "metadata": {},
   "source": [
    "---\n",
    "###### 문제 해결"
   ]
  },
  {
   "cell_type": "markdown",
   "metadata": {},
   "source": [
    "- 위에서 만든 `report_path_list`, `meeting_path_list`, `presentation_path_list`를 이용하여, 해당하는 파일들을 각각의 `Reports`, `Meetings`, `Presentations` 폴더로 `shutil`을 이용하여 이동시키시기 바랍니다."
   ]
  },
  {
   "cell_type": "code",
   "execution_count": null,
   "metadata": {},
   "outputs": [],
   "source": [
    "report_path_list"
   ]
  },
  {
   "cell_type": "code",
   "execution_count": null,
   "metadata": {},
   "outputs": [],
   "source": [
    "# 아래에 코드를 작성하세요\n",
    "for file in report_path_list :\n",
    "    shutil.copy(file, \"./Reports\")\n",
    "\n",
    "    \n",
    "for file in meeting_path_list :\n",
    "    shutil.copy(file, \"./Meetings\")\n",
    "\n",
    "    \n",
    "for file in presentation_path_list :\n",
    "    shutil.copy(file, \"./Presentations\")"
   ]
  },
  {
   "cell_type": "markdown",
   "metadata": {},
   "source": [
    "---\n",
    "###### 학습자료\n",
    "\n",
    "### `os`와 `shutil`에 대한 추가적인 함수 소개"
   ]
  },
  {
   "cell_type": "markdown",
   "metadata": {},
   "source": [
    "#### `os`라이브러리를 통한 파일의 삭제\n",
    "\n",
    "- `os.remove`로 단일 파일을 삭제할 수 있습니다.\n",
    "- 되돌릴 수 없으니 신중하게 파일을 삭제하여야 합니다."
   ]
  },
  {
   "cell_type": "code",
   "execution_count": null,
   "metadata": {},
   "outputs": [],
   "source": [
    "target_path = \"./src/os/Deleteme.txt\"\n",
    "\n",
    "# 아래의 코드를 실행하세요\n",
    "\n",
    "os.remove(target_path)"
   ]
  },
  {
   "cell_type": "markdown",
   "metadata": {},
   "source": [
    "#### `os`라이브러리를 통한 비어있는 폴더의 삭제\n",
    "\n",
    "- `os.removedirs` 함수를 이용하여 폴더를 삭제할 수 있습니다.\n",
    "- os.removedirs는 재귀적으로 폴더를 삭제합니다. \n",
    "- 최하위 폴더에서 위로 올라가며 비어있는 폴더만 삭제를 진행하다가, 비어있지 않은 폴더에서 삭제를 멈춥니다.\n",
    "- 단, 폴더가 비어있는 경우에만 삭제할 수 있습니다."
   ]
  },
  {
   "cell_type": "code",
   "execution_count": null,
   "metadata": {},
   "outputs": [],
   "source": [
    "# 아래의 코드를 실행하세요\n",
    "os.makedirs(\"./src/os/RemoveMe/SubFolder/SubSubFolder/SubSubSubFolder\", exist_ok=True)\n",
    "os.makedirs(\"./src/os/RemoveMe/SubFolder/Sub2Folder\", exist_ok=True)"
   ]
  },
  {
   "cell_type": "code",
   "execution_count": null,
   "metadata": {},
   "outputs": [],
   "source": [
    "target_path = \"./src/os/RemoveMe/SubFolder/SubSubFolder\"\n",
    "\n",
    "# 아래의 코드를 실행하세요\n",
    "\n",
    "os.removedirs(target_path)\n",
    "# 디렉토리가 비어있지 않아서 에러발생"
   ]
  },
  {
   "cell_type": "code",
   "execution_count": null,
   "metadata": {},
   "outputs": [],
   "source": [
    "target_path = \"./src/os/RemoveMe/SubFolder/SubSubFolder/SubSubSubFolder\"\n",
    "\n",
    "# 아래의 코드를 실행하세요\n",
    "\n",
    "os.removedirs(target_path)"
   ]
  },
  {
   "cell_type": "markdown",
   "metadata": {},
   "source": [
    "#### `shutil`을 이용한 폴더의 복사\n",
    "\n",
    "- `copytree` 함수는 폴더를 복사할 때 사용합니다.\n",
    "- 마지막 디렉토리를 생성하고 해당 디렉토리에 파일을 복사합니다.\n",
    "- `copytree` 함수의 첫 번째 인자는 복사할 폴더의 경로이고, 두 번째 인자는 복사될 경로입니다.\n",
    "- 이미 존재하는 폴더에는 복사할 수 없습니다."
   ]
  },
  {
   "cell_type": "code",
   "execution_count": null,
   "metadata": {},
   "outputs": [],
   "source": [
    "src = \"./src/shutil/CopyMe/\"\n",
    "dest = \"./src/shutil/MoveToHere/CopyMe/\" #CopyMe 디렉토리는 함수가 생성하며, 이미 존재하면 오류가 발생합니다.\n",
    "\n",
    "# 아래의 코드를 실행하세요\n",
    "\n",
    "shutil.copytree(src, dest)"
   ]
  },
  {
   "cell_type": "markdown",
   "metadata": {},
   "source": [
    "### `shutil`을 이용한 비어있지 않은 폴더의 삭제\n",
    "\n",
    "- `rmtree` 함수는 폴더를 제거할 때 사용합니다.\n",
    "- 비어있지 않아도 제거합니다."
   ]
  },
  {
   "cell_type": "code",
   "execution_count": null,
   "metadata": {},
   "outputs": [],
   "source": [
    "target_path = \"./src/shutil/RemoveMe/\"\n",
    "\n",
    "# 아래의 코드를 실행하세요\n",
    "\n",
    "shutil.rmtree(\"./src/shutil/MoveToHere/CopyMe\")"
   ]
  },
  {
   "cell_type": "markdown",
   "metadata": {},
   "source": [
    "---\n",
    "###### 학습자료"
   ]
  },
  {
   "cell_type": "markdown",
   "metadata": {},
   "source": [
    "\n",
    "#### 현재 작업 디렉토리에 대한 함수\n",
    "\n",
    "\n",
    "- 현재 작업 디렉토리는 getcwd() 함수를 통하여 확인할 수 있습니다. get current working directory의 약자입니다.\n",
    "\n",
    "- 현재 작업 디렉토리를 변경하고 싶은 경우에는 chdir() 함수를 이용합니다. change directory의 약자입니다."
   ]
  },
  {
   "cell_type": "code",
   "execution_count": null,
   "metadata": {},
   "outputs": [],
   "source": [
    "# getcwd()를 통하여 현재 작업 디렉토리를 확인할 수 있습니다.\n",
    "# 아래 코드를 실행하세요\n",
    "\n",
    "print(os.getcwd())"
   ]
  },
  {
   "cell_type": "code",
   "execution_count": null,
   "metadata": {},
   "outputs": [],
   "source": [
    "# chdir()를 통하여 현재 작업 디렉토리를 변경할 수 있습니다.\n",
    "# 아래 코드를 실행하세요\n",
    "\n",
    "os.chdir(\"./Reports\")\n",
    "print(os.getcwd())"
   ]
  },
  {
   "cell_type": "code",
   "execution_count": null,
   "metadata": {},
   "outputs": [],
   "source": [
    "# chdir()과 상위 디렉토리를 의미하는 ../을 이용하여 원래 경로로 되돌아 옵니다.\n",
    "# 아래 코드를 실행하세요\n",
    "\n",
    "os.chdir(\"../\")\n",
    "print(os.getcwd())"
   ]
  }
 ],
 "metadata": {
  "kernelspec": {
   "display_name": "Python 3",
   "language": "python",
   "name": "python3"
  },
  "language_info": {
   "codemirror_mode": {
    "name": "ipython",
    "version": 3
   },
   "file_extension": ".py",
   "mimetype": "text/x-python",
   "name": "python",
   "nbconvert_exporter": "python",
   "pygments_lexer": "ipython3",
   "version": "3.11.8"
  }
 },
 "nbformat": 4,
 "nbformat_minor": 2
}
